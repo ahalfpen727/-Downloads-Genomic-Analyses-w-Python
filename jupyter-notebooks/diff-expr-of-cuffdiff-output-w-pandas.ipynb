{
 "cells": [
  {
   "cell_type": "markdown",
   "metadata": {},
   "source": [
    "## An RNA-Seq analysis of output from Cuffdiff (produced using the Tailor pipeline) using python instead of R"
   ]
  },
  {
   "cell_type": "markdown",
   "metadata": {},
   "source": [
    "First we'll import some needed packages - matplotlib for plotting, and the pandas package for analyzing tables of data.  We often use shorthands for these..."
   ]
  },
  {
   "cell_type": "code",
   "execution_count": 11,
   "metadata": {},
   "outputs": [],
   "source": [
    "import pandas as pd\n",
    "import numpy as np\n",
    "import matplotlib.pylab as plt\n",
    "import sys\n",
    "import pprint\n",
    "import vcf as vcf\n",
    "import allel as al\n",
    "from pysam import VariantFile\n",
    "%matplotlib inline"
   ]
  },
  {
   "cell_type": "code",
   "execution_count": 8,
   "metadata": {},
   "outputs": [
    {
     "name": "stdout",
     "output_type": "stream",
     "text": [
      "/home/drew/Desktop/IPyNB-Variant-Analysis/jupyter-notebooks\n"
     ]
    }
   ],
   "source": [
    "%%bash\n",
    "pwd"
   ]
  },
  {
   "cell_type": "code",
   "execution_count": 2,
   "metadata": {},
   "outputs": [
    {
     "data": {
      "text/html": [
       "<div>\n",
       "<style scoped>\n",
       "    .dataframe tbody tr th:only-of-type {\n",
       "        vertical-align: middle;\n",
       "    }\n",
       "\n",
       "    .dataframe tbody tr th {\n",
       "        vertical-align: top;\n",
       "    }\n",
       "\n",
       "    .dataframe thead th {\n",
       "        text-align: right;\n",
       "    }\n",
       "</style>\n",
       "<table border=\"1\" class=\"dataframe\">\n",
       "  <thead>\n",
       "    <tr style=\"text-align: right;\">\n",
       "      <th></th>\n",
       "      <th>CTRL_0</th>\n",
       "      <th>CTRL_1</th>\n",
       "      <th>CTRL_2</th>\n",
       "      <th>CTRL_3</th>\n",
       "      <th>CTRL_4</th>\n",
       "      <th>CTRL_5</th>\n",
       "      <th>CTRL_6</th>\n",
       "      <th>CTRL_7</th>\n",
       "      <th>CTRL_8</th>\n",
       "      <th>LUTS_0</th>\n",
       "      <th>LUTS_1</th>\n",
       "      <th>LUTS_2</th>\n",
       "      <th>LUTS_3</th>\n",
       "      <th>LUTS_4</th>\n",
       "      <th>LUTS_5</th>\n",
       "      <th>LUTS_6</th>\n",
       "      <th>LUTS_7</th>\n",
       "      <th>LUTS_8</th>\n",
       "    </tr>\n",
       "  </thead>\n",
       "  <tbody>\n",
       "    <tr>\n",
       "      <th>A1BG</th>\n",
       "      <td>0.000000</td>\n",
       "      <td>0.000</td>\n",
       "      <td>0.0</td>\n",
       "      <td>0.00</td>\n",
       "      <td>0.00</td>\n",
       "      <td>0.00</td>\n",
       "      <td>0.00</td>\n",
       "      <td>0.00000</td>\n",
       "      <td>0.0000</td>\n",
       "      <td>0.00000</td>\n",
       "      <td>0.00</td>\n",
       "      <td>0.0</td>\n",
       "      <td>0.000</td>\n",
       "      <td>0.0000</td>\n",
       "      <td>0.212403</td>\n",
       "      <td>0.00000</td>\n",
       "      <td>0.0000</td>\n",
       "      <td>0.0000</td>\n",
       "    </tr>\n",
       "    <tr>\n",
       "      <th>A1BG-AS1</th>\n",
       "      <td>0.000000</td>\n",
       "      <td>0.000</td>\n",
       "      <td>0.0</td>\n",
       "      <td>0.00</td>\n",
       "      <td>0.00</td>\n",
       "      <td>0.00</td>\n",
       "      <td>0.00</td>\n",
       "      <td>7.14763</td>\n",
       "      <td>0.0000</td>\n",
       "      <td>0.00000</td>\n",
       "      <td>0.00</td>\n",
       "      <td>0.0</td>\n",
       "      <td>0.000</td>\n",
       "      <td>0.0000</td>\n",
       "      <td>22.727100</td>\n",
       "      <td>0.00000</td>\n",
       "      <td>14.9598</td>\n",
       "      <td>0.0000</td>\n",
       "    </tr>\n",
       "    <tr>\n",
       "      <th>A1CF</th>\n",
       "      <td>0.747955</td>\n",
       "      <td>415.118</td>\n",
       "      <td>0.0</td>\n",
       "      <td>0.00</td>\n",
       "      <td>0.00</td>\n",
       "      <td>0.00</td>\n",
       "      <td>0.00</td>\n",
       "      <td>0.00000</td>\n",
       "      <td>84.2029</td>\n",
       "      <td>0.00000</td>\n",
       "      <td>0.00</td>\n",
       "      <td>0.0</td>\n",
       "      <td>0.000</td>\n",
       "      <td>34.6153</td>\n",
       "      <td>1.486820</td>\n",
       "      <td>1.39289</td>\n",
       "      <td>22.4397</td>\n",
       "      <td>20.1034</td>\n",
       "    </tr>\n",
       "    <tr>\n",
       "      <th>A2M</th>\n",
       "      <td>1528.820000</td>\n",
       "      <td>2628.850</td>\n",
       "      <td>0.0</td>\n",
       "      <td>1822.81</td>\n",
       "      <td>9870.74</td>\n",
       "      <td>1050.92</td>\n",
       "      <td>1473.34</td>\n",
       "      <td>3078.10000</td>\n",
       "      <td>6705.2100</td>\n",
       "      <td>3796.59000</td>\n",
       "      <td>1052.94</td>\n",
       "      <td>1021.8</td>\n",
       "      <td>703.598</td>\n",
       "      <td>1268.0100</td>\n",
       "      <td>7780.520000</td>\n",
       "      <td>3.48224</td>\n",
       "      <td>2403.1800</td>\n",
       "      <td>1825.7500</td>\n",
       "    </tr>\n",
       "    <tr>\n",
       "      <th>A2M-AS1</th>\n",
       "      <td>0.000000</td>\n",
       "      <td>0.000</td>\n",
       "      <td>0.0</td>\n",
       "      <td>0.00</td>\n",
       "      <td>0.00</td>\n",
       "      <td>0.00</td>\n",
       "      <td>0.00</td>\n",
       "      <td>0.00000</td>\n",
       "      <td>0.0000</td>\n",
       "      <td>2.34575</td>\n",
       "      <td>0.00</td>\n",
       "      <td>0.0</td>\n",
       "      <td>0.000</td>\n",
       "      <td>0.0000</td>\n",
       "      <td>3.398440</td>\n",
       "      <td>0.00000</td>\n",
       "      <td>35.2623</td>\n",
       "      <td>0.0000</td>\n",
       "    </tr>\n",
       "  </tbody>\n",
       "</table>\n",
       "</div>"
      ],
      "text/plain": [
       "               CTRL_0    CTRL_1  CTRL_2   CTRL_3   CTRL_4   CTRL_5   CTRL_6  \\\n",
       "A1BG         0.000000     0.000     0.0     0.00     0.00     0.00     0.00   \n",
       "A1BG-AS1     0.000000     0.000     0.0     0.00     0.00     0.00     0.00   \n",
       "A1CF         0.747955   415.118     0.0     0.00     0.00     0.00     0.00   \n",
       "A2M       1528.820000  2628.850     0.0  1822.81  9870.74  1050.92  1473.34   \n",
       "A2M-AS1      0.000000     0.000     0.0     0.00     0.00     0.00     0.00   \n",
       "\n",
       "              CTRL_7     CTRL_8      LUTS_0   LUTS_1  LUTS_2   LUTS_3  \\\n",
       "A1BG         0.00000     0.0000     0.00000     0.00     0.0    0.000   \n",
       "A1BG-AS1     7.14763     0.0000     0.00000     0.00     0.0    0.000   \n",
       "A1CF         0.00000    84.2029     0.00000     0.00     0.0    0.000   \n",
       "A2M       3078.10000  6705.2100  3796.59000  1052.94  1021.8  703.598   \n",
       "A2M-AS1      0.00000     0.0000     2.34575     0.00     0.0    0.000   \n",
       "\n",
       "             LUTS_4       LUTS_5   LUTS_6     LUTS_7     LUTS_8  \n",
       "A1BG         0.0000     0.212403  0.00000     0.0000     0.0000  \n",
       "A1BG-AS1     0.0000    22.727100  0.00000    14.9598     0.0000  \n",
       "A1CF        34.6153     1.486820  1.39289    22.4397    20.1034  \n",
       "A2M       1268.0100  7780.520000  3.48224  2403.1800  1825.7500  \n",
       "A2M-AS1      0.0000     3.398440  0.00000    35.2623     0.0000  "
      ]
     },
     "execution_count": 2,
     "metadata": {},
     "output_type": "execute_result"
    }
   ],
   "source": [
    "gene_counts = '../data/gene_count_matrix.tsv'\n",
    "gene_data = pd.read_table(gene_counts)\n",
    "gene_data.head()"
   ]
  },
  {
   "cell_type": "code",
   "execution_count": 4,
   "metadata": {},
   "outputs": [
    {
     "data": {
      "text/html": [
       "<div>\n",
       "<style scoped>\n",
       "    .dataframe tbody tr th:only-of-type {\n",
       "        vertical-align: middle;\n",
       "    }\n",
       "\n",
       "    .dataframe tbody tr th {\n",
       "        vertical-align: top;\n",
       "    }\n",
       "\n",
       "    .dataframe thead th {\n",
       "        text-align: right;\n",
       "    }\n",
       "</style>\n",
       "<table border=\"1\" class=\"dataframe\">\n",
       "  <thead>\n",
       "    <tr style=\"text-align: right;\">\n",
       "      <th></th>\n",
       "      <th>LUTS_0</th>\n",
       "      <th>LUTS_1</th>\n",
       "      <th>LUTS_2</th>\n",
       "      <th>LUTS_3</th>\n",
       "      <th>LUTS_4</th>\n",
       "      <th>LUTS_5</th>\n",
       "      <th>LUTS_6</th>\n",
       "      <th>LUTS_7</th>\n",
       "      <th>LUTS_8</th>\n",
       "    </tr>\n",
       "  </thead>\n",
       "  <tbody>\n",
       "    <tr>\n",
       "      <th>A1BG</th>\n",
       "      <td>0.00000</td>\n",
       "      <td>0.00</td>\n",
       "      <td>0.0</td>\n",
       "      <td>0.000</td>\n",
       "      <td>0.0000</td>\n",
       "      <td>0.212403</td>\n",
       "      <td>0.00000</td>\n",
       "      <td>0.0000</td>\n",
       "      <td>0.0000</td>\n",
       "    </tr>\n",
       "    <tr>\n",
       "      <th>A1BG-AS1</th>\n",
       "      <td>0.00000</td>\n",
       "      <td>0.00</td>\n",
       "      <td>0.0</td>\n",
       "      <td>0.000</td>\n",
       "      <td>0.0000</td>\n",
       "      <td>22.727100</td>\n",
       "      <td>0.00000</td>\n",
       "      <td>14.9598</td>\n",
       "      <td>0.0000</td>\n",
       "    </tr>\n",
       "    <tr>\n",
       "      <th>A1CF</th>\n",
       "      <td>0.00000</td>\n",
       "      <td>0.00</td>\n",
       "      <td>0.0</td>\n",
       "      <td>0.000</td>\n",
       "      <td>34.6153</td>\n",
       "      <td>1.486820</td>\n",
       "      <td>1.39289</td>\n",
       "      <td>22.4397</td>\n",
       "      <td>20.1034</td>\n",
       "    </tr>\n",
       "    <tr>\n",
       "      <th>A2M</th>\n",
       "      <td>3796.59000</td>\n",
       "      <td>1052.94</td>\n",
       "      <td>1021.8</td>\n",
       "      <td>703.598</td>\n",
       "      <td>1268.0100</td>\n",
       "      <td>7780.520000</td>\n",
       "      <td>3.48224</td>\n",
       "      <td>2403.1800</td>\n",
       "      <td>1825.7500</td>\n",
       "    </tr>\n",
       "    <tr>\n",
       "      <th>A2M-AS1</th>\n",
       "      <td>2.34575</td>\n",
       "      <td>0.00</td>\n",
       "      <td>0.0</td>\n",
       "      <td>0.000</td>\n",
       "      <td>0.0000</td>\n",
       "      <td>3.398440</td>\n",
       "      <td>0.00000</td>\n",
       "      <td>35.2623</td>\n",
       "      <td>0.0000</td>\n",
       "    </tr>\n",
       "  </tbody>\n",
       "</table>\n",
       "</div>"
      ],
      "text/plain": [
       "              LUTS_0   LUTS_1  LUTS_2   LUTS_3     LUTS_4       LUTS_5  \\\n",
       "A1BG         0.00000     0.00     0.0    0.000     0.0000     0.212403   \n",
       "A1BG-AS1     0.00000     0.00     0.0    0.000     0.0000    22.727100   \n",
       "A1CF         0.00000     0.00     0.0    0.000    34.6153     1.486820   \n",
       "A2M       3796.59000  1052.94  1021.8  703.598  1268.0100  7780.520000   \n",
       "A2M-AS1      2.34575     0.00     0.0    0.000     0.0000     3.398440   \n",
       "\n",
       "           LUTS_6     LUTS_7     LUTS_8  \n",
       "A1BG      0.00000     0.0000     0.0000  \n",
       "A1BG-AS1  0.00000    14.9598     0.0000  \n",
       "A1CF      1.39289    22.4397    20.1034  \n",
       "A2M       3.48224  2403.1800  1825.7500  \n",
       "A2M-AS1   0.00000    35.2623     0.0000  "
      ]
     },
     "execution_count": 4,
     "metadata": {},
     "output_type": "execute_result"
    }
   ],
   "source": [
    "samples = list(gene_data.columns)\n",
    "ctrl_genes=gene_data[samples[0:8]]\n",
    "luts_genes=gene_data[samples[9:]]\n",
    "luts_genes.head()"
   ]
  },
  {
   "cell_type": "code",
   "execution_count": 13,
   "metadata": {
    "scrolled": true
   },
   "outputs": [
    {
     "name": "stderr",
     "output_type": "stream",
     "text": [
      "/usr/lib/python3/dist-packages/pandas/plotting/_core.py:394: UserWarning: FixedFormatter should only be used together with FixedLocator\n",
      "  ax.set_xticklabels(xticklabels)\n",
      "/usr/lib/python3/dist-packages/pandas/plotting/_tools.py:307: MatplotlibDeprecationWarning: \n",
      "The rowNum attribute was deprecated in Matplotlib 3.2 and will be removed two minor releases later. Use ax.get_subplotspec().rowspan.start instead.\n",
      "  layout[ax.rowNum, ax.colNum] = ax.get_visible()\n",
      "/usr/lib/python3/dist-packages/pandas/plotting/_tools.py:307: MatplotlibDeprecationWarning: \n",
      "The colNum attribute was deprecated in Matplotlib 3.2 and will be removed two minor releases later. Use ax.get_subplotspec().colspan.start instead.\n",
      "  layout[ax.rowNum, ax.colNum] = ax.get_visible()\n",
      "/usr/lib/python3/dist-packages/pandas/plotting/_tools.py:313: MatplotlibDeprecationWarning: \n",
      "The rowNum attribute was deprecated in Matplotlib 3.2 and will be removed two minor releases later. Use ax.get_subplotspec().rowspan.start instead.\n",
      "  if not layout[ax.rowNum + 1, ax.colNum]:\n",
      "/usr/lib/python3/dist-packages/pandas/plotting/_tools.py:313: MatplotlibDeprecationWarning: \n",
      "The colNum attribute was deprecated in Matplotlib 3.2 and will be removed two minor releases later. Use ax.get_subplotspec().colspan.start instead.\n",
      "  if not layout[ax.rowNum + 1, ax.colNum]:\n"
     ]
    },
    {
     "data": {
      "text/plain": [
       "array([[<AxesSubplot:title={'center':'LUTS_0'}>,\n",
       "        <AxesSubplot:title={'center':'LUTS_1'}>,\n",
       "        <AxesSubplot:title={'center':'LUTS_2'}>],\n",
       "       [<AxesSubplot:title={'center':'LUTS_3'}>,\n",
       "        <AxesSubplot:title={'center':'LUTS_4'}>,\n",
       "        <AxesSubplot:title={'center':'LUTS_5'}>],\n",
       "       [<AxesSubplot:title={'center':'LUTS_6'}>,\n",
       "        <AxesSubplot:title={'center':'LUTS_7'}>,\n",
       "        <AxesSubplot:title={'center':'LUTS_8'}>]], dtype=object)"
      ]
     },
     "execution_count": 13,
     "metadata": {},
     "output_type": "execute_result"
    },
    {
     "data": {
      "image/png": "[encoded data removed]",
      "text/plain": [
       "<Figure size 432x288 with 1 Axes>"
      ]
     },
     "metadata": {
      "needs_background": "light"
     },
     "output_type": "display_data"
    },
    {
     "data": {
      "image/png": "[encoded data removed]",
      "text/plain": [
       "<Figure size 432x288 with 9 Axes>"
      ]
     },
     "metadata": {
      "needs_background": "light"
     },
     "output_type": "display_data"
    }
   ],
   "source": [
    "luts_genes.plot()\n",
    "luts_genes.hist()"
   ]
  },
  {
   "cell_type": "code",
   "execution_count": 14,
   "metadata": {},
   "outputs": [
    {
     "name": "stderr",
     "output_type": "stream",
     "text": [
      "/usr/lib/python3/dist-packages/pandas/plotting/_core.py:394: UserWarning: FixedFormatter should only be used together with FixedLocator\n",
      "  ax.set_xticklabels(xticklabels)\n",
      "/usr/lib/python3/dist-packages/pandas/plotting/_tools.py:307: MatplotlibDeprecationWarning: \n",
      "The rowNum attribute was deprecated in Matplotlib 3.2 and will be removed two minor releases later. Use ax.get_subplotspec().rowspan.start instead.\n",
      "  layout[ax.rowNum, ax.colNum] = ax.get_visible()\n",
      "/usr/lib/python3/dist-packages/pandas/plotting/_tools.py:307: MatplotlibDeprecationWarning: \n",
      "The colNum attribute was deprecated in Matplotlib 3.2 and will be removed two minor releases later. Use ax.get_subplotspec().colspan.start instead.\n",
      "  layout[ax.rowNum, ax.colNum] = ax.get_visible()\n",
      "/usr/lib/python3/dist-packages/pandas/plotting/_tools.py:313: MatplotlibDeprecationWarning: \n",
      "The rowNum attribute was deprecated in Matplotlib 3.2 and will be removed two minor releases later. Use ax.get_subplotspec().rowspan.start instead.\n",
      "  if not layout[ax.rowNum + 1, ax.colNum]:\n",
      "/usr/lib/python3/dist-packages/pandas/plotting/_tools.py:313: MatplotlibDeprecationWarning: \n",
      "The colNum attribute was deprecated in Matplotlib 3.2 and will be removed two minor releases later. Use ax.get_subplotspec().colspan.start instead.\n",
      "  if not layout[ax.rowNum + 1, ax.colNum]:\n"
     ]
    },
    {
     "data": {
      "text/plain": [
       "array([[<AxesSubplot:title={'center':'CTRL_0'}>,\n",
       "        <AxesSubplot:title={'center':'CTRL_1'}>,\n",
       "        <AxesSubplot:title={'center':'CTRL_2'}>],\n",
       "       [<AxesSubplot:title={'center':'CTRL_3'}>,\n",
       "        <AxesSubplot:title={'center':'CTRL_4'}>,\n",
       "        <AxesSubplot:title={'center':'CTRL_5'}>],\n",
       "       [<AxesSubplot:title={'center':'CTRL_6'}>,\n",
       "        <AxesSubplot:title={'center':'CTRL_7'}>, <AxesSubplot:>]],\n",
       "      dtype=object)"
      ]
     },
     "execution_count": 14,
     "metadata": {},
     "output_type": "execute_result"
    },
    {
     "data": {
      "image/png": "[encoded data removed]",
      "text/plain": [
       "<Figure size 432x288 with 1 Axes>"
      ]
     },
     "metadata": {
      "needs_background": "light"
     },
     "output_type": "display_data"
    },
    {
     "data": {
      "image/png": "[encoded data removed]",
      "text/plain": [
       "<Figure size 432x288 with 9 Axes>"
      ]
     },
     "metadata": {
      "needs_background": "light"
     },
     "output_type": "display_data"
    }
   ],
   "source": [
    "ctrl_genes.plot()\n",
    "ctrl_genes.hist()"
   ]
  },
  {
   "cell_type": "code",
   "execution_count": 15,
   "metadata": {},
   "outputs": [
    {
     "data": {
      "text/html": [
       "<div>\n",
       "<style scoped>\n",
       "    .dataframe tbody tr th:only-of-type {\n",
       "        vertical-align: middle;\n",
       "    }\n",
       "\n",
       "    .dataframe tbody tr th {\n",
       "        vertical-align: top;\n",
       "    }\n",
       "\n",
       "    .dataframe thead th {\n",
       "        text-align: right;\n",
       "    }\n",
       "</style>\n",
       "<table border=\"1\" class=\"dataframe\">\n",
       "  <thead>\n",
       "    <tr style=\"text-align: right;\">\n",
       "      <th></th>\n",
       "      <th>CTRL_0</th>\n",
       "      <th>CTRL_1</th>\n",
       "      <th>CTRL_2</th>\n",
       "      <th>CTRL_3</th>\n",
       "      <th>CTRL_4</th>\n",
       "      <th>CTRL_5</th>\n",
       "      <th>CTRL_6</th>\n",
       "      <th>CTRL_7</th>\n",
       "      <th>CTRL_8</th>\n",
       "      <th>LUTS_0</th>\n",
       "      <th>LUTS_1</th>\n",
       "      <th>LUTS_2</th>\n",
       "      <th>LUTS_3</th>\n",
       "      <th>LUTS_4</th>\n",
       "      <th>LUTS_5</th>\n",
       "      <th>LUTS_6</th>\n",
       "      <th>LUTS_7</th>\n",
       "      <th>LUTS_8</th>\n",
       "    </tr>\n",
       "  </thead>\n",
       "  <tbody>\n",
       "    <tr>\n",
       "      <th>A1BG</th>\n",
       "      <td>0.0</td>\n",
       "      <td>0.0</td>\n",
       "      <td>0.0</td>\n",
       "      <td>0.0</td>\n",
       "      <td>0.0</td>\n",
       "      <td>0.0</td>\n",
       "      <td>0.0</td>\n",
       "      <td>0.0</td>\n",
       "      <td>0.0</td>\n",
       "      <td>0.0</td>\n",
       "      <td>0.0</td>\n",
       "      <td>0.0</td>\n",
       "      <td>0.0</td>\n",
       "      <td>0.0</td>\n",
       "      <td>NaN</td>\n",
       "      <td>0.0</td>\n",
       "      <td>0.0</td>\n",
       "      <td>0.0</td>\n",
       "    </tr>\n",
       "    <tr>\n",
       "      <th>A1BG-AS1</th>\n",
       "      <td>0.0</td>\n",
       "      <td>0.0</td>\n",
       "      <td>0.0</td>\n",
       "      <td>0.0</td>\n",
       "      <td>0.0</td>\n",
       "      <td>0.0</td>\n",
       "      <td>0.0</td>\n",
       "      <td>NaN</td>\n",
       "      <td>0.0</td>\n",
       "      <td>0.0</td>\n",
       "      <td>0.0</td>\n",
       "      <td>0.0</td>\n",
       "      <td>0.0</td>\n",
       "      <td>0.0</td>\n",
       "      <td>NaN</td>\n",
       "      <td>0.0</td>\n",
       "      <td>NaN</td>\n",
       "      <td>0.0</td>\n",
       "    </tr>\n",
       "    <tr>\n",
       "      <th>A1CF</th>\n",
       "      <td>NaN</td>\n",
       "      <td>NaN</td>\n",
       "      <td>0.0</td>\n",
       "      <td>0.0</td>\n",
       "      <td>0.0</td>\n",
       "      <td>0.0</td>\n",
       "      <td>0.0</td>\n",
       "      <td>0.0</td>\n",
       "      <td>NaN</td>\n",
       "      <td>0.0</td>\n",
       "      <td>0.0</td>\n",
       "      <td>0.0</td>\n",
       "      <td>0.0</td>\n",
       "      <td>NaN</td>\n",
       "      <td>NaN</td>\n",
       "      <td>NaN</td>\n",
       "      <td>NaN</td>\n",
       "      <td>NaN</td>\n",
       "    </tr>\n",
       "    <tr>\n",
       "      <th>A2M</th>\n",
       "      <td>NaN</td>\n",
       "      <td>NaN</td>\n",
       "      <td>0.0</td>\n",
       "      <td>NaN</td>\n",
       "      <td>NaN</td>\n",
       "      <td>NaN</td>\n",
       "      <td>NaN</td>\n",
       "      <td>NaN</td>\n",
       "      <td>NaN</td>\n",
       "      <td>NaN</td>\n",
       "      <td>NaN</td>\n",
       "      <td>NaN</td>\n",
       "      <td>NaN</td>\n",
       "      <td>NaN</td>\n",
       "      <td>NaN</td>\n",
       "      <td>NaN</td>\n",
       "      <td>NaN</td>\n",
       "      <td>NaN</td>\n",
       "    </tr>\n",
       "    <tr>\n",
       "      <th>A2M-AS1</th>\n",
       "      <td>0.0</td>\n",
       "      <td>0.0</td>\n",
       "      <td>0.0</td>\n",
       "      <td>0.0</td>\n",
       "      <td>0.0</td>\n",
       "      <td>0.0</td>\n",
       "      <td>0.0</td>\n",
       "      <td>0.0</td>\n",
       "      <td>0.0</td>\n",
       "      <td>NaN</td>\n",
       "      <td>0.0</td>\n",
       "      <td>0.0</td>\n",
       "      <td>0.0</td>\n",
       "      <td>0.0</td>\n",
       "      <td>NaN</td>\n",
       "      <td>0.0</td>\n",
       "      <td>NaN</td>\n",
       "      <td>0.0</td>\n",
       "    </tr>\n",
       "  </tbody>\n",
       "</table>\n",
       "</div>"
      ],
      "text/plain": [
       "          CTRL_0  CTRL_1  CTRL_2  CTRL_3  CTRL_4  CTRL_5  CTRL_6  CTRL_7  \\\n",
       "A1BG         0.0     0.0     0.0     0.0     0.0     0.0     0.0     0.0   \n",
       "A1BG-AS1     0.0     0.0     0.0     0.0     0.0     0.0     0.0     NaN   \n",
       "A1CF         NaN     NaN     0.0     0.0     0.0     0.0     0.0     0.0   \n",
       "A2M          NaN     NaN     0.0     NaN     NaN     NaN     NaN     NaN   \n",
       "A2M-AS1      0.0     0.0     0.0     0.0     0.0     0.0     0.0     0.0   \n",
       "\n",
       "          CTRL_8  LUTS_0  LUTS_1  LUTS_2  LUTS_3  LUTS_4  LUTS_5  LUTS_6  \\\n",
       "A1BG         0.0     0.0     0.0     0.0     0.0     0.0     NaN     0.0   \n",
       "A1BG-AS1     0.0     0.0     0.0     0.0     0.0     0.0     NaN     0.0   \n",
       "A1CF         NaN     0.0     0.0     0.0     0.0     NaN     NaN     NaN   \n",
       "A2M          NaN     NaN     NaN     NaN     NaN     NaN     NaN     NaN   \n",
       "A2M-AS1      0.0     NaN     0.0     0.0     0.0     0.0     NaN     0.0   \n",
       "\n",
       "          LUTS_7  LUTS_8  \n",
       "A1BG         0.0     0.0  \n",
       "A1BG-AS1     NaN     0.0  \n",
       "A1CF         NaN     NaN  \n",
       "A2M          NaN     NaN  \n",
       "A2M-AS1      NaN     0.0  "
      ]
     },
     "execution_count": 15,
     "metadata": {},
     "output_type": "execute_result"
    }
   ],
   "source": [
    "genes_with_counts = gene_data[(gene_data[0:] <= 0)]\n",
    "genes_with_counts.head()"
   ]
  },
  {
   "cell_type": "markdown",
   "metadata": {},
   "source": [
    "Pandas data frames are just collections of same-length columns, each of which has a given type (float, int, etc).  Selecting a few of them is quite easy:"
   ]
  },
  {
   "cell_type": "code",
   "execution_count": 9,
   "metadata": {},
   "outputs": [
    {
     "name": "stdout",
     "output_type": "stream",
     "text": [
      "Index(['length', 'SRR493366', 'SRR493367', 'SRR493368', 'SRR493369',\n",
      "       'SRR493370', 'SRR493371'],\n",
      "      dtype='object')\n",
      "['length', 'SRR493366', 'SRR493367', 'SRR493368', 'SRR493369', 'SRR493370', 'SRR493371']\n"
     ]
    }
   ],
   "source": [
    "genes_with_counts = gene_count_data[(gene_count_data[\"SRR493366\"] > 0) & (gene_count_data[\"SRR493367\"] > 0) &\n",
    "                                    (gene_count_data[\"SRR493368\"] > 0) & (gene_count_data[\"SRR493369\"] > 0) &\n",
    "                                    (gene_count_data[\"SRR493370\"] > 0) & (gene_count_data[\"SRR493371\"] > 0)]\n",
    "genes_with_counts.head()"
   ]
  },
  {
   "cell_type": "code",
   "execution_count": 10,
   "metadata": {},
   "outputs": [
    {
     "data": {
      "text/plain": [
       "ensgene\n",
       "ENSG00000186092     918\n",
       "ENSG00000279928     718\n",
       "ENSG00000279457    1982\n",
       "ENSG00000278566     939\n",
       "ENSG00000273547     939\n",
       "Name: length, dtype: int64"
      ]
     },
     "execution_count": 10,
     "metadata": {},
     "output_type": "execute_result"
    }
   ],
   "source": [
    "gene_data['length'].head()"
   ]
  },
  {
   "cell_type": "markdown",
   "metadata": {},
   "source": [
    "When would the above ways of selecting a column be more or less convenient?"
   ]
  },
  {
   "cell_type": "code",
   "execution_count": 12,
   "metadata": {},
   "outputs": [
    {
     "data": {
      "text/plain": [
       "118327"
      ]
     },
     "execution_count": 12,
     "metadata": {},
     "output_type": "execute_result"
    }
   ],
   "source": [
    "gene_data['length'].max()"
   ]
  },
  {
   "cell_type": "code",
   "execution_count": 34,
   "metadata": {
    "scrolled": true
   },
   "outputs": [
    {
     "name": "stdout",
     "output_type": "stream",
     "text": [
      "Keyring is skipped due to an exception: Item does not exist!\n",
      "Collecting cdpybio\n",
      "  Downloading cdpybio-0.0.7.tar.gz (44 kB)\n",
      "\u001b[K     |████████████████████████████████| 44 kB 1.7 MB/s eta 0:00:01\n",
      "\u001b[?25hBuilding wheels for collected packages: cdpybio\n",
      "  Building wheel for cdpybio (setup.py) ... \u001b[?25ldone\n",
      "\u001b[?25h  Created wheel for cdpybio: filename=cdpybio-0.0.7-py3-none-any.whl size=51353 sha256=48bac986fcdf83e76b9253a9ad2d6bccd48630c1b6ea65ca7ea40a321619b48d\n",
      "  Stored in directory: /home/drew/.cache/pip/wheels/f0/eb/00/12ab5dba4d6b2194415ad477fc7a9d301164a20883e38874c5\n",
      "Successfully built cdpybio\n",
      "Installing collected packages: cdpybio\n",
      "Successfully installed cdpybio-0.0.7\n",
      "Note: you may need to restart the kernel to use updated packages.\n"
     ]
    }
   ],
   "source": [
    "gene_sig = '../data/gene_exp_diff.tab'\n",
    "sig_genes = pd.read_table(gene_sig)\n",
    "sig_genes.set_index('genes')\n",
    "#logq_vals = sig_genes.columns.set_index[['genes']]\n",
    "#logq_vals.head()\n",
    "#log_q_genes=sig_genes[[\"genes\",\"logFC\",\"q_value\"]]"
   ]
  },
  {
   "cell_type": "markdown",
   "metadata": {},
   "source": [
    "Let's create a new data frame, `gene_count_data` that omits the length column. "
   ]
  },
  {
   "cell_type": "markdown",
   "metadata": {},
   "source": [
    "_Hands on.  There's a few ways to do this - the manual way..._"
   ]
  },
  {
   "cell_type": "code",
   "execution_count": 18,
   "metadata": {},
   "outputs": [
    {
     "data": {
      "text/html": [
       "<div>\n",
       "<table border=\"1\" class=\"dataframe\">\n",
       "  <thead>\n",
       "    <tr style=\"text-align: right;\">\n",
       "      <th></th>\n",
       "      <th>SRR493366</th>\n",
       "      <th>SRR493367</th>\n",
       "      <th>SRR493368</th>\n",
       "      <th>SRR493369</th>\n",
       "      <th>SRR493370</th>\n",
       "      <th>SRR493371</th>\n",
       "    </tr>\n",
       "    <tr>\n",
       "      <th>ensgene</th>\n",
       "      <th></th>\n",
       "      <th></th>\n",
       "      <th></th>\n",
       "      <th></th>\n",
       "      <th></th>\n",
       "      <th></th>\n",
       "    </tr>\n",
       "  </thead>\n",
       "  <tbody>\n",
       "    <tr>\n",
       "      <th>ENSG00000186092</th>\n",
       "      <td>0</td>\n",
       "      <td>0</td>\n",
       "      <td>0</td>\n",
       "      <td>0</td>\n",
       "      <td>0</td>\n",
       "      <td>0</td>\n",
       "    </tr>\n",
       "    <tr>\n",
       "      <th>ENSG00000279928</th>\n",
       "      <td>0</td>\n",
       "      <td>0</td>\n",
       "      <td>0</td>\n",
       "      <td>0</td>\n",
       "      <td>0</td>\n",
       "      <td>0</td>\n",
       "    </tr>\n",
       "    <tr>\n",
       "      <th>ENSG00000279457</th>\n",
       "      <td>23</td>\n",
       "      <td>28</td>\n",
       "      <td>29</td>\n",
       "      <td>29</td>\n",
       "      <td>28</td>\n",
       "      <td>46</td>\n",
       "    </tr>\n",
       "    <tr>\n",
       "      <th>ENSG00000278566</th>\n",
       "      <td>0</td>\n",
       "      <td>0</td>\n",
       "      <td>0</td>\n",
       "      <td>0</td>\n",
       "      <td>0</td>\n",
       "      <td>0</td>\n",
       "    </tr>\n",
       "    <tr>\n",
       "      <th>ENSG00000273547</th>\n",
       "      <td>0</td>\n",
       "      <td>0</td>\n",
       "      <td>0</td>\n",
       "      <td>0</td>\n",
       "      <td>0</td>\n",
       "      <td>0</td>\n",
       "    </tr>\n",
       "  </tbody>\n",
       "</table>\n",
       "</div>"
      ],
      "text/plain": [
       "                 SRR493366  SRR493367  SRR493368  SRR493369  SRR493370  \\\n",
       "ensgene                                                                  \n",
       "ENSG00000186092          0          0          0          0          0   \n",
       "ENSG00000279928          0          0          0          0          0   \n",
       "ENSG00000279457         23         28         29         29         28   \n",
       "ENSG00000278566          0          0          0          0          0   \n",
       "ENSG00000273547          0          0          0          0          0   \n",
       "\n",
       "                 SRR493371  \n",
       "ensgene                     \n",
       "ENSG00000186092          0  \n",
       "ENSG00000279928          0  \n",
       "ENSG00000279457         46  \n",
       "ENSG00000278566          0  \n",
       "ENSG00000273547          0  "
      ]
     },
     "execution_count": 18,
     "metadata": {},
     "output_type": "execute_result"
    }
   ],
   "source": [
    "gene_count_data = gene_data[[1,2,3,4,5,6]]\n",
    "gene_count_data.head()"
   ]
  },
  {
   "cell_type": "code",
   "execution_count": 19,
   "metadata": {},
   "outputs": [
    {
     "data": {
      "text/html": [
       "<div>\n",
       "<table border=\"1\" class=\"dataframe\">\n",
       "  <thead>\n",
       "    <tr style=\"text-align: right;\">\n",
       "      <th></th>\n",
       "      <th>SRR493366</th>\n",
       "      <th>SRR493367</th>\n",
       "      <th>SRR493368</th>\n",
       "      <th>SRR493369</th>\n",
       "      <th>SRR493370</th>\n",
       "      <th>SRR493371</th>\n",
       "    </tr>\n",
       "    <tr>\n",
       "      <th>ensgene</th>\n",
       "      <th></th>\n",
       "      <th></th>\n",
       "      <th></th>\n",
       "      <th></th>\n",
       "      <th></th>\n",
       "      <th></th>\n",
       "    </tr>\n",
       "  </thead>\n",
       "  <tbody>\n",
       "    <tr>\n",
       "      <th>ENSG00000186092</th>\n",
       "      <td>0</td>\n",
       "      <td>0</td>\n",
       "      <td>0</td>\n",
       "      <td>0</td>\n",
       "      <td>0</td>\n",
       "      <td>0</td>\n",
       "    </tr>\n",
       "    <tr>\n",
       "      <th>ENSG00000279928</th>\n",
       "      <td>0</td>\n",
       "      <td>0</td>\n",
       "      <td>0</td>\n",
       "      <td>0</td>\n",
       "      <td>0</td>\n",
       "      <td>0</td>\n",
       "    </tr>\n",
       "    <tr>\n",
       "      <th>ENSG00000279457</th>\n",
       "      <td>23</td>\n",
       "      <td>28</td>\n",
       "      <td>29</td>\n",
       "      <td>29</td>\n",
       "      <td>28</td>\n",
       "      <td>46</td>\n",
       "    </tr>\n",
       "    <tr>\n",
       "      <th>ENSG00000278566</th>\n",
       "      <td>0</td>\n",
       "      <td>0</td>\n",
       "      <td>0</td>\n",
       "      <td>0</td>\n",
       "      <td>0</td>\n",
       "      <td>0</td>\n",
       "    </tr>\n",
       "    <tr>\n",
       "      <th>ENSG00000273547</th>\n",
       "      <td>0</td>\n",
       "      <td>0</td>\n",
       "      <td>0</td>\n",
       "      <td>0</td>\n",
       "      <td>0</td>\n",
       "      <td>0</td>\n",
       "    </tr>\n",
       "  </tbody>\n",
       "</table>\n",
       "</div>"
      ],
      "text/plain": [
       "                 SRR493366  SRR493367  SRR493368  SRR493369  SRR493370  \\\n",
       "ensgene                                                                  \n",
       "ENSG00000186092          0          0          0          0          0   \n",
       "ENSG00000279928          0          0          0          0          0   \n",
       "ENSG00000279457         23         28         29         29         28   \n",
       "ENSG00000278566          0          0          0          0          0   \n",
       "ENSG00000273547          0          0          0          0          0   \n",
       "\n",
       "                 SRR493371  \n",
       "ensgene                     \n",
       "ENSG00000186092          0  \n",
       "ENSG00000279928          0  \n",
       "ENSG00000279457         46  \n",
       "ENSG00000278566          0  \n",
       "ENSG00000273547          0  "
      ]
     },
     "execution_count": 19,
     "metadata": {},
     "output_type": "execute_result"
    }
   ],
   "source": [
    "names = list(gene_data.columns)\n",
    "gene_count_data = gene_data[names[1:]]\n",
    "gene_count_data.head()"
   ]
  },
  {
   "cell_type": "code",
   "execution_count": 20,
   "metadata": {},
   "outputs": [
    {
     "data": {
      "text/html": [
       "<div>\n",
       "<table border=\"1\" class=\"dataframe\">\n",
       "  <thead>\n",
       "    <tr style=\"text-align: right;\">\n",
       "      <th></th>\n",
       "      <th>SRR493366</th>\n",
       "      <th>SRR493367</th>\n",
       "      <th>SRR493368</th>\n",
       "      <th>SRR493369</th>\n",
       "      <th>SRR493370</th>\n",
       "      <th>SRR493371</th>\n",
       "    </tr>\n",
       "    <tr>\n",
       "      <th>ensgene</th>\n",
       "      <th></th>\n",
       "      <th></th>\n",
       "      <th></th>\n",
       "      <th></th>\n",
       "      <th></th>\n",
       "      <th></th>\n",
       "    </tr>\n",
       "  </thead>\n",
       "  <tbody>\n",
       "    <tr>\n",
       "      <th>ENSG00000186092</th>\n",
       "      <td>0</td>\n",
       "      <td>0</td>\n",
       "      <td>0</td>\n",
       "      <td>0</td>\n",
       "      <td>0</td>\n",
       "      <td>0</td>\n",
       "    </tr>\n",
       "    <tr>\n",
       "      <th>ENSG00000279928</th>\n",
       "      <td>0</td>\n",
       "      <td>0</td>\n",
       "      <td>0</td>\n",
       "      <td>0</td>\n",
       "      <td>0</td>\n",
       "      <td>0</td>\n",
       "    </tr>\n",
       "    <tr>\n",
       "      <th>ENSG00000279457</th>\n",
       "      <td>23</td>\n",
       "      <td>28</td>\n",
       "      <td>29</td>\n",
       "      <td>29</td>\n",
       "      <td>28</td>\n",
       "      <td>46</td>\n",
       "    </tr>\n",
       "    <tr>\n",
       "      <th>ENSG00000278566</th>\n",
       "      <td>0</td>\n",
       "      <td>0</td>\n",
       "      <td>0</td>\n",
       "      <td>0</td>\n",
       "      <td>0</td>\n",
       "      <td>0</td>\n",
       "    </tr>\n",
       "    <tr>\n",
       "      <th>ENSG00000273547</th>\n",
       "      <td>0</td>\n",
       "      <td>0</td>\n",
       "      <td>0</td>\n",
       "      <td>0</td>\n",
       "      <td>0</td>\n",
       "      <td>0</td>\n",
       "    </tr>\n",
       "  </tbody>\n",
       "</table>\n",
       "</div>"
      ],
      "text/plain": [
       "                 SRR493366  SRR493367  SRR493368  SRR493369  SRR493370  \\\n",
       "ensgene                                                                  \n",
       "ENSG00000186092          0          0          0          0          0   \n",
       "ENSG00000279928          0          0          0          0          0   \n",
       "ENSG00000279457         23         28         29         29         28   \n",
       "ENSG00000278566          0          0          0          0          0   \n",
       "ENSG00000273547          0          0          0          0          0   \n",
       "\n",
       "                 SRR493371  \n",
       "ensgene                     \n",
       "ENSG00000186092          0  \n",
       "ENSG00000279928          0  \n",
       "ENSG00000279457         46  \n",
       "ENSG00000278566          0  \n",
       "ENSG00000273547          0  "
      ]
     },
     "execution_count": 20,
     "metadata": {},
     "output_type": "execute_result"
    }
   ],
   "source": [
    "gene_count_data = gene_data[gene_data.columns[1:]]\n",
    "gene_count_data.head()"
   ]
  },
  {
   "cell_type": "markdown",
   "metadata": {},
   "source": [
    "Now that we've got the counts, we can look at plots a little more sensibly:"
   ]
  },
  {
   "cell_type": "code",
   "execution_count": 22,
   "metadata": {},
   "outputs": [
    {
     "data": {
      "text/plain": [
       "array([[<matplotlib.axes._subplots.AxesSubplot object at 0x11820ac88>,\n",
       "        <matplotlib.axes._subplots.AxesSubplot object at 0x118894860>],\n",
       "       [<matplotlib.axes._subplots.AxesSubplot object at 0x11be26390>,\n",
       "        <matplotlib.axes._subplots.AxesSubplot object at 0x11be71780>],\n",
       "       [<matplotlib.axes._subplots.AxesSubplot object at 0x11becb278>,\n",
       "        <matplotlib.axes._subplots.AxesSubplot object at 0x11bf162e8>]], dtype=object)"
      ]
     },
     "execution_count": 22,
     "metadata": {},
     "output_type": "execute_result"
    },
    {
     "data": {
      "image/png": "[encoded data removed]",
      "text/plain": [
       "<matplotlib.figure.Figure at 0x118218358>"
      ]
     },
     "metadata": {},
     "output_type": "display_data"
    }
   ],
   "source": [
    "gene_count_data.hist()"
   ]
  },
  {
   "cell_type": "code",
   "execution_count": 23,
   "metadata": {},
   "outputs": [
    {
     "data": {
      "text/plain": [
       "array([[<matplotlib.axes._subplots.AxesSubplot object at 0x11ca0d6a0>,\n",
       "        <matplotlib.axes._subplots.AxesSubplot object at 0x11cc19198>],\n",
       "       [<matplotlib.axes._subplots.AxesSubplot object at 0x11cc59f98>,\n",
       "        <matplotlib.axes._subplots.AxesSubplot object at 0x11b2730b8>],\n",
       "       [<matplotlib.axes._subplots.AxesSubplot object at 0x11ccc47b8>,\n",
       "        <matplotlib.axes._subplots.AxesSubplot object at 0x11cd01eb8>]], dtype=object)"
      ]
     },
     "execution_count": 23,
     "metadata": {},
     "output_type": "execute_result"
    },
    {
     "data": {
      "image/png": "[encoded data removed]",
      "text/plain": [
       "<matplotlib.figure.Figure at 0x11ca2b1d0>"
      ]
     },
     "metadata": {},
     "output_type": "display_data"
    }
   ],
   "source": [
    "#gene_count_data.hist(log=True, bins=50)\n",
    "#gene_count_data['SRR493366'].hist(log=True, bins=50, range=[0,50000])"
   ]
  },
  {
   "cell_type": "markdown",
   "metadata": {},
   "source": [
    "Ok, now we want to skip rows that have all-zero (or maybe all-below-some-threshold) number of counts.  Let's play around with data frame rows.\n",
    "\n",
    "When you index a data frame with a list or with a name, it selects columns; if you just use numbers, it selects rows:"
   ]
  },
  {
   "cell_type": "markdown",
   "metadata": {},
   "source": [
    "You can select rows not just by numbers, but by whether a condition is true or false"
   ]
  },
  {
   "cell_type": "markdown",
   "metadata": {},
   "source": [
    "So this gives us a way to select our rows... we just need a way to figure out if all of the relevant columns pass some criterion.  This would work:"
   ]
  },
  {
   "cell_type": "code",
   "execution_count": 31,
   "metadata": {},
   "outputs": [
    {
     "data": {
      "text/html": [
       "<div>\n",
       "<table border=\"1\" class=\"dataframe\">\n",
       "  <thead>\n",
       "    <tr style=\"text-align: right;\">\n",
       "      <th></th>\n",
       "      <th>SRR493366</th>\n",
       "      <th>SRR493367</th>\n",
       "      <th>SRR493368</th>\n",
       "      <th>SRR493369</th>\n",
       "      <th>SRR493370</th>\n",
       "      <th>SRR493371</th>\n",
       "    </tr>\n",
       "    <tr>\n",
       "      <th>ensgene</th>\n",
       "      <th></th>\n",
       "      <th></th>\n",
       "      <th></th>\n",
       "      <th></th>\n",
       "      <th></th>\n",
       "      <th></th>\n",
       "    </tr>\n",
       "  </thead>\n",
       "  <tbody>\n",
       "    <tr>\n",
       "      <th>ENSG00000279457</th>\n",
       "      <td>23</td>\n",
       "      <td>28</td>\n",
       "      <td>29</td>\n",
       "      <td>29</td>\n",
       "      <td>28</td>\n",
       "      <td>46</td>\n",
       "    </tr>\n",
       "    <tr>\n",
       "      <th>ENSG00000187634</th>\n",
       "      <td>124</td>\n",
       "      <td>123</td>\n",
       "      <td>205</td>\n",
       "      <td>207</td>\n",
       "      <td>212</td>\n",
       "      <td>258</td>\n",
       "    </tr>\n",
       "    <tr>\n",
       "      <th>ENSG00000188976</th>\n",
       "      <td>1637</td>\n",
       "      <td>1831</td>\n",
       "      <td>2383</td>\n",
       "      <td>1226</td>\n",
       "      <td>1326</td>\n",
       "      <td>1504</td>\n",
       "    </tr>\n",
       "    <tr>\n",
       "      <th>ENSG00000187961</th>\n",
       "      <td>120</td>\n",
       "      <td>153</td>\n",
       "      <td>180</td>\n",
       "      <td>236</td>\n",
       "      <td>255</td>\n",
       "      <td>357</td>\n",
       "    </tr>\n",
       "    <tr>\n",
       "      <th>ENSG00000187583</th>\n",
       "      <td>24</td>\n",
       "      <td>48</td>\n",
       "      <td>65</td>\n",
       "      <td>44</td>\n",
       "      <td>48</td>\n",
       "      <td>64</td>\n",
       "    </tr>\n",
       "  </tbody>\n",
       "</table>\n",
       "</div>"
      ],
      "text/plain": [
       "                 SRR493366  SRR493367  SRR493368  SRR493369  SRR493370  \\\n",
       "ensgene                                                                  \n",
       "ENSG00000279457         23         28         29         29         28   \n",
       "ENSG00000187634        124        123        205        207        212   \n",
       "ENSG00000188976       1637       1831       2383       1226       1326   \n",
       "ENSG00000187961        120        153        180        236        255   \n",
       "ENSG00000187583         24         48         65         44         48   \n",
       "\n",
       "                 SRR493371  \n",
       "ensgene                     \n",
       "ENSG00000279457         46  \n",
       "ENSG00000187634        258  \n",
       "ENSG00000188976       1504  \n",
       "ENSG00000187961        357  \n",
       "ENSG00000187583         64  "
      ]
     },
     "execution_count": 31,
     "metadata": {},
     "output_type": "execute_result"
    }
   ],
   "source": [
    "genes_with_counts = gene_count_data[(gene_count_data[\"SRR493366\"] > 0) & (gene_count_data[\"SRR493367\"] > 0) &\n",
    "                                    (gene_count_data[\"SRR493368\"] > 0) & (gene_count_data[\"SRR493369\"] > 0) &\n",
    "                                    (gene_count_data[\"SRR493370\"] > 0) & (gene_count_data[\"SRR493371\"] > 0)]\n",
    "genes_with_counts.head()"
   ]
  },
  {
   "cell_type": "markdown",
   "metadata": {},
   "source": [
    "But it's sort of too terrible to contemplate (what if we had 30 samples?)"
   ]
  },
  {
   "cell_type": "code",
   "execution_count": 36,
   "metadata": {},
   "outputs": [
    {
     "data": {
      "text/html": [
       "<div>\n",
       "<table border=\"1\" class=\"dataframe\">\n",
       "  <thead>\n",
       "    <tr style=\"text-align: right;\">\n",
       "      <th></th>\n",
       "      <th>SRR493366</th>\n",
       "      <th>SRR493367</th>\n",
       "      <th>SRR493368</th>\n",
       "      <th>SRR493369</th>\n",
       "      <th>SRR493370</th>\n",
       "      <th>SRR493371</th>\n",
       "    </tr>\n",
       "    <tr>\n",
       "      <th>ensgene</th>\n",
       "      <th></th>\n",
       "      <th></th>\n",
       "      <th></th>\n",
       "      <th></th>\n",
       "      <th></th>\n",
       "      <th></th>\n",
       "    </tr>\n",
       "  </thead>\n",
       "  <tbody>\n",
       "    <tr>\n",
       "      <th>ENSG00000186092</th>\n",
       "      <td>False</td>\n",
       "      <td>False</td>\n",
       "      <td>False</td>\n",
       "      <td>False</td>\n",
       "      <td>False</td>\n",
       "      <td>False</td>\n",
       "    </tr>\n",
       "    <tr>\n",
       "      <th>ENSG00000279928</th>\n",
       "      <td>False</td>\n",
       "      <td>False</td>\n",
       "      <td>False</td>\n",
       "      <td>False</td>\n",
       "      <td>False</td>\n",
       "      <td>False</td>\n",
       "    </tr>\n",
       "    <tr>\n",
       "      <th>ENSG00000279457</th>\n",
       "      <td>True</td>\n",
       "      <td>True</td>\n",
       "      <td>True</td>\n",
       "      <td>True</td>\n",
       "      <td>True</td>\n",
       "      <td>True</td>\n",
       "    </tr>\n",
       "    <tr>\n",
       "      <th>ENSG00000278566</th>\n",
       "      <td>False</td>\n",
       "      <td>False</td>\n",
       "      <td>False</td>\n",
       "      <td>False</td>\n",
       "      <td>False</td>\n",
       "      <td>False</td>\n",
       "    </tr>\n",
       "    <tr>\n",
       "      <th>ENSG00000273547</th>\n",
       "      <td>False</td>\n",
       "      <td>False</td>\n",
       "      <td>False</td>\n",
       "      <td>False</td>\n",
       "      <td>False</td>\n",
       "      <td>False</td>\n",
       "    </tr>\n",
       "  </tbody>\n",
       "</table>\n",
       "</div>"
      ],
      "text/plain": [
       "                SRR493366 SRR493367 SRR493368 SRR493369 SRR493370 SRR493371\n",
       "ensgene                                                                    \n",
       "ENSG00000186092     False     False     False     False     False     False\n",
       "ENSG00000279928     False     False     False     False     False     False\n",
       "ENSG00000279457      True      True      True      True      True      True\n",
       "ENSG00000278566     False     False     False     False     False     False\n",
       "ENSG00000273547     False     False     False     False     False     False"
      ]
     },
     "execution_count": 36,
     "metadata": {},
     "output_type": "execute_result"
    }
   ],
   "source": [
    "(gene_count_data > 0).head()"
   ]
  },
  {
   "cell_type": "code",
   "execution_count": 40,
   "metadata": {},
   "outputs": [
    {
     "data": {
      "text/plain": [
       "SRR493366    False\n",
       "SRR493367    False\n",
       "SRR493368    False\n",
       "SRR493369    False\n",
       "SRR493370    False\n",
       "SRR493371    False\n",
       "dtype: bool"
      ]
     },
     "execution_count": 40,
     "metadata": {},
     "output_type": "execute_result"
    }
   ],
   "source": [
    "(gene_count_data > 0).all()"
   ]
  },
  {
   "cell_type": "code",
   "execution_count": 41,
   "metadata": {},
   "outputs": [
    {
     "data": {
      "text/plain": [
       "ensgene\n",
       "ENSG00000186092    False\n",
       "ENSG00000279928    False\n",
       "ENSG00000279457     True\n",
       "ENSG00000278566    False\n",
       "ENSG00000273547    False\n",
       "ENSG00000187634     True\n",
       "ENSG00000188976     True\n",
       "ENSG00000187961     True\n",
       "ENSG00000187583     True\n",
       "ENSG00000187642     True\n",
       "ENSG00000188290     True\n",
       "ENSG00000187608     True\n",
       "ENSG00000188157     True\n",
       "ENSG00000237330    False\n",
       "ENSG00000131591     True\n",
       "ENSG00000162571    False\n",
       "ENSG00000186891    False\n",
       "ENSG00000186827    False\n",
       "ENSG00000078808     True\n",
       "ENSG00000176022     True\n",
       "ENSG00000184163     True\n",
       "ENSG00000160087     True\n",
       "ENSG00000162572     True\n",
       "ENSG00000131584     True\n",
       "ENSG00000169972     True\n",
       "ENSG00000127054     True\n",
       "ENSG00000224051     True\n",
       "ENSG00000169962     True\n",
       "ENSG00000107404     True\n",
       "ENSG00000162576     True\n",
       "                   ...  \n",
       "ENSG00000198727     True\n",
       "ENSG00000274175    False\n",
       "ENSG00000275869    False\n",
       "ENSG00000273554    False\n",
       "ENSG00000278782    False\n",
       "ENSG00000277761    False\n",
       "ENSG00000277836    False\n",
       "ENSG00000277666    False\n",
       "ENSG00000276760    False\n",
       "ENSG00000275249    False\n",
       "ENSG00000274792    False\n",
       "ENSG00000278704    False\n",
       "ENSG00000277400    False\n",
       "ENSG00000274847    False\n",
       "ENSG00000273496    False\n",
       "ENSG00000276256     True\n",
       "ENSG00000278198    False\n",
       "ENSG00000273748     True\n",
       "ENSG00000276017    False\n",
       "ENSG00000278817     True\n",
       "ENSG00000277196    False\n",
       "ENSG00000277630    False\n",
       "ENSG00000278384    False\n",
       "ENSG00000278633    False\n",
       "ENSG00000276345     True\n",
       "ENSG00000277856    False\n",
       "ENSG00000275063    False\n",
       "ENSG00000271254     True\n",
       "ENSG00000277475    False\n",
       "ENSG00000268674    False\n",
       "dtype: bool"
      ]
     },
     "execution_count": 41,
     "metadata": {},
     "output_type": "execute_result"
    }
   ],
   "source": [
    "(gene_count_data > 0).all(axis=1)"
   ]
  },
  {
   "cell_type": "code",
   "execution_count": 42,
   "metadata": {},
   "outputs": [
    {
     "data": {
      "text/html": [
       "<div>\n",
       "<table border=\"1\" class=\"dataframe\">\n",
       "  <thead>\n",
       "    <tr style=\"text-align: right;\">\n",
       "      <th></th>\n",
       "      <th>SRR493366</th>\n",
       "      <th>SRR493367</th>\n",
       "      <th>SRR493368</th>\n",
       "      <th>SRR493369</th>\n",
       "      <th>SRR493370</th>\n",
       "      <th>SRR493371</th>\n",
       "    </tr>\n",
       "    <tr>\n",
       "      <th>ensgene</th>\n",
       "      <th></th>\n",
       "      <th></th>\n",
       "      <th></th>\n",
       "      <th></th>\n",
       "      <th></th>\n",
       "      <th></th>\n",
       "    </tr>\n",
       "  </thead>\n",
       "  <tbody>\n",
       "    <tr>\n",
       "      <th>ENSG00000279457</th>\n",
       "      <td>23</td>\n",
       "      <td>28</td>\n",
       "      <td>29</td>\n",
       "      <td>29</td>\n",
       "      <td>28</td>\n",
       "      <td>46</td>\n",
       "    </tr>\n",
       "    <tr>\n",
       "      <th>ENSG00000187634</th>\n",
       "      <td>124</td>\n",
       "      <td>123</td>\n",
       "      <td>205</td>\n",
       "      <td>207</td>\n",
       "      <td>212</td>\n",
       "      <td>258</td>\n",
       "    </tr>\n",
       "    <tr>\n",
       "      <th>ENSG00000188976</th>\n",
       "      <td>1637</td>\n",
       "      <td>1831</td>\n",
       "      <td>2383</td>\n",
       "      <td>1226</td>\n",
       "      <td>1326</td>\n",
       "      <td>1504</td>\n",
       "    </tr>\n",
       "    <tr>\n",
       "      <th>ENSG00000187961</th>\n",
       "      <td>120</td>\n",
       "      <td>153</td>\n",
       "      <td>180</td>\n",
       "      <td>236</td>\n",
       "      <td>255</td>\n",
       "      <td>357</td>\n",
       "    </tr>\n",
       "    <tr>\n",
       "      <th>ENSG00000187583</th>\n",
       "      <td>24</td>\n",
       "      <td>48</td>\n",
       "      <td>65</td>\n",
       "      <td>44</td>\n",
       "      <td>48</td>\n",
       "      <td>64</td>\n",
       "    </tr>\n",
       "    <tr>\n",
       "      <th>ENSG00000187642</th>\n",
       "      <td>4</td>\n",
       "      <td>9</td>\n",
       "      <td>16</td>\n",
       "      <td>14</td>\n",
       "      <td>16</td>\n",
       "      <td>16</td>\n",
       "    </tr>\n",
       "    <tr>\n",
       "      <th>ENSG00000188290</th>\n",
       "      <td>31</td>\n",
       "      <td>34</td>\n",
       "      <td>57</td>\n",
       "      <td>172</td>\n",
       "      <td>172</td>\n",
       "      <td>223</td>\n",
       "    </tr>\n",
       "    <tr>\n",
       "      <th>ENSG00000187608</th>\n",
       "      <td>244</td>\n",
       "      <td>289</td>\n",
       "      <td>386</td>\n",
       "      <td>373</td>\n",
       "      <td>422</td>\n",
       "      <td>430</td>\n",
       "    </tr>\n",
       "    <tr>\n",
       "      <th>ENSG00000188157</th>\n",
       "      <td>6547</td>\n",
       "      <td>6758</td>\n",
       "      <td>9367</td>\n",
       "      <td>9853</td>\n",
       "      <td>10483</td>\n",
       "      <td>13037</td>\n",
       "    </tr>\n",
       "    <tr>\n",
       "      <th>ENSG00000131591</th>\n",
       "      <td>115</td>\n",
       "      <td>135</td>\n",
       "      <td>169</td>\n",
       "      <td>143</td>\n",
       "      <td>174</td>\n",
       "      <td>225</td>\n",
       "    </tr>\n",
       "    <tr>\n",
       "      <th>ENSG00000078808</th>\n",
       "      <td>3355</td>\n",
       "      <td>3427</td>\n",
       "      <td>4634</td>\n",
       "      <td>4963</td>\n",
       "      <td>5313</td>\n",
       "      <td>6517</td>\n",
       "    </tr>\n",
       "    <tr>\n",
       "      <th>ENSG00000176022</th>\n",
       "      <td>555</td>\n",
       "      <td>744</td>\n",
       "      <td>925</td>\n",
       "      <td>950</td>\n",
       "      <td>1059</td>\n",
       "      <td>1339</td>\n",
       "    </tr>\n",
       "    <tr>\n",
       "      <th>ENSG00000184163</th>\n",
       "      <td>4</td>\n",
       "      <td>5</td>\n",
       "      <td>2</td>\n",
       "      <td>6</td>\n",
       "      <td>3</td>\n",
       "      <td>7</td>\n",
       "    </tr>\n",
       "    <tr>\n",
       "      <th>ENSG00000160087</th>\n",
       "      <td>805</td>\n",
       "      <td>943</td>\n",
       "      <td>1261</td>\n",
       "      <td>1300</td>\n",
       "      <td>1439</td>\n",
       "      <td>1811</td>\n",
       "    </tr>\n",
       "    <tr>\n",
       "      <th>ENSG00000162572</th>\n",
       "      <td>18</td>\n",
       "      <td>17</td>\n",
       "      <td>32</td>\n",
       "      <td>36</td>\n",
       "      <td>45</td>\n",
       "      <td>50</td>\n",
       "    </tr>\n",
       "    <tr>\n",
       "      <th>ENSG00000131584</th>\n",
       "      <td>654</td>\n",
       "      <td>794</td>\n",
       "      <td>1010</td>\n",
       "      <td>1198</td>\n",
       "      <td>1279</td>\n",
       "      <td>1657</td>\n",
       "    </tr>\n",
       "    <tr>\n",
       "      <th>ENSG00000169972</th>\n",
       "      <td>186</td>\n",
       "      <td>209</td>\n",
       "      <td>233</td>\n",
       "      <td>225</td>\n",
       "      <td>244</td>\n",
       "      <td>282</td>\n",
       "    </tr>\n",
       "    <tr>\n",
       "      <th>ENSG00000127054</th>\n",
       "      <td>833</td>\n",
       "      <td>852</td>\n",
       "      <td>1144</td>\n",
       "      <td>867</td>\n",
       "      <td>844</td>\n",
       "      <td>1034</td>\n",
       "    </tr>\n",
       "    <tr>\n",
       "      <th>ENSG00000224051</th>\n",
       "      <td>244</td>\n",
       "      <td>292</td>\n",
       "      <td>393</td>\n",
       "      <td>264</td>\n",
       "      <td>272</td>\n",
       "      <td>360</td>\n",
       "    </tr>\n",
       "    <tr>\n",
       "      <th>ENSG00000169962</th>\n",
       "      <td>4</td>\n",
       "      <td>4</td>\n",
       "      <td>9</td>\n",
       "      <td>3</td>\n",
       "      <td>6</td>\n",
       "      <td>11</td>\n",
       "    </tr>\n",
       "    <tr>\n",
       "      <th>ENSG00000107404</th>\n",
       "      <td>829</td>\n",
       "      <td>926</td>\n",
       "      <td>1255</td>\n",
       "      <td>891</td>\n",
       "      <td>983</td>\n",
       "      <td>1179</td>\n",
       "    </tr>\n",
       "    <tr>\n",
       "      <th>ENSG00000162576</th>\n",
       "      <td>3604</td>\n",
       "      <td>3957</td>\n",
       "      <td>5289</td>\n",
       "      <td>6006</td>\n",
       "      <td>6638</td>\n",
       "      <td>7988</td>\n",
       "    </tr>\n",
       "    <tr>\n",
       "      <th>ENSG00000175756</th>\n",
       "      <td>824</td>\n",
       "      <td>929</td>\n",
       "      <td>1210</td>\n",
       "      <td>1084</td>\n",
       "      <td>1088</td>\n",
       "      <td>1385</td>\n",
       "    </tr>\n",
       "    <tr>\n",
       "      <th>ENSG00000221978</th>\n",
       "      <td>943</td>\n",
       "      <td>966</td>\n",
       "      <td>1346</td>\n",
       "      <td>1466</td>\n",
       "      <td>1685</td>\n",
       "      <td>1976</td>\n",
       "    </tr>\n",
       "    <tr>\n",
       "      <th>ENSG00000242485</th>\n",
       "      <td>544</td>\n",
       "      <td>665</td>\n",
       "      <td>774</td>\n",
       "      <td>621</td>\n",
       "      <td>662</td>\n",
       "      <td>767</td>\n",
       "    </tr>\n",
       "    <tr>\n",
       "      <th>ENSG00000179403</th>\n",
       "      <td>98</td>\n",
       "      <td>84</td>\n",
       "      <td>109</td>\n",
       "      <td>113</td>\n",
       "      <td>117</td>\n",
       "      <td>139</td>\n",
       "    </tr>\n",
       "    <tr>\n",
       "      <th>ENSG00000160072</th>\n",
       "      <td>384</td>\n",
       "      <td>508</td>\n",
       "      <td>662</td>\n",
       "      <td>279</td>\n",
       "      <td>337</td>\n",
       "      <td>387</td>\n",
       "    </tr>\n",
       "    <tr>\n",
       "      <th>ENSG00000197785</th>\n",
       "      <td>634</td>\n",
       "      <td>832</td>\n",
       "      <td>1041</td>\n",
       "      <td>513</td>\n",
       "      <td>543</td>\n",
       "      <td>717</td>\n",
       "    </tr>\n",
       "    <tr>\n",
       "      <th>ENSG00000205090</th>\n",
       "      <td>34</td>\n",
       "      <td>30</td>\n",
       "      <td>30</td>\n",
       "      <td>53</td>\n",
       "      <td>39</td>\n",
       "      <td>59</td>\n",
       "    </tr>\n",
       "    <tr>\n",
       "      <th>ENSG00000160075</th>\n",
       "      <td>1422</td>\n",
       "      <td>1679</td>\n",
       "      <td>2153</td>\n",
       "      <td>1805</td>\n",
       "      <td>1960</td>\n",
       "      <td>2327</td>\n",
       "    </tr>\n",
       "    <tr>\n",
       "      <th>...</th>\n",
       "      <td>...</td>\n",
       "      <td>...</td>\n",
       "      <td>...</td>\n",
       "      <td>...</td>\n",
       "      <td>...</td>\n",
       "      <td>...</td>\n",
       "    </tr>\n",
       "    <tr>\n",
       "      <th>ENSG00000183570</th>\n",
       "      <td>62</td>\n",
       "      <td>86</td>\n",
       "      <td>105</td>\n",
       "      <td>62</td>\n",
       "      <td>79</td>\n",
       "      <td>88</td>\n",
       "    </tr>\n",
       "    <tr>\n",
       "      <th>ENSG00000142156</th>\n",
       "      <td>43675</td>\n",
       "      <td>47671</td>\n",
       "      <td>62321</td>\n",
       "      <td>45996</td>\n",
       "      <td>52407</td>\n",
       "      <td>59205</td>\n",
       "    </tr>\n",
       "    <tr>\n",
       "      <th>ENSG00000142173</th>\n",
       "      <td>39167</td>\n",
       "      <td>41639</td>\n",
       "      <td>55840</td>\n",
       "      <td>51079</td>\n",
       "      <td>56664</td>\n",
       "      <td>66531</td>\n",
       "    </tr>\n",
       "    <tr>\n",
       "      <th>ENSG00000160282</th>\n",
       "      <td>4</td>\n",
       "      <td>7</td>\n",
       "      <td>8</td>\n",
       "      <td>4</td>\n",
       "      <td>6</td>\n",
       "      <td>5</td>\n",
       "    </tr>\n",
       "    <tr>\n",
       "      <th>ENSG00000160284</th>\n",
       "      <td>132</td>\n",
       "      <td>112</td>\n",
       "      <td>188</td>\n",
       "      <td>161</td>\n",
       "      <td>209</td>\n",
       "      <td>244</td>\n",
       "    </tr>\n",
       "    <tr>\n",
       "      <th>ENSG00000160285</th>\n",
       "      <td>1339</td>\n",
       "      <td>1463</td>\n",
       "      <td>1937</td>\n",
       "      <td>1306</td>\n",
       "      <td>1565</td>\n",
       "      <td>1752</td>\n",
       "    </tr>\n",
       "    <tr>\n",
       "      <th>ENSG00000160294</th>\n",
       "      <td>1289</td>\n",
       "      <td>1471</td>\n",
       "      <td>1913</td>\n",
       "      <td>1784</td>\n",
       "      <td>2002</td>\n",
       "      <td>2316</td>\n",
       "    </tr>\n",
       "    <tr>\n",
       "      <th>ENSG00000182362</th>\n",
       "      <td>109</td>\n",
       "      <td>92</td>\n",
       "      <td>114</td>\n",
       "      <td>124</td>\n",
       "      <td>140</td>\n",
       "      <td>139</td>\n",
       "    </tr>\n",
       "    <tr>\n",
       "      <th>ENSG00000160298</th>\n",
       "      <td>58</td>\n",
       "      <td>67</td>\n",
       "      <td>99</td>\n",
       "      <td>27</td>\n",
       "      <td>28</td>\n",
       "      <td>37</td>\n",
       "    </tr>\n",
       "    <tr>\n",
       "      <th>ENSG00000160299</th>\n",
       "      <td>627</td>\n",
       "      <td>694</td>\n",
       "      <td>916</td>\n",
       "      <td>642</td>\n",
       "      <td>725</td>\n",
       "      <td>754</td>\n",
       "    </tr>\n",
       "    <tr>\n",
       "      <th>ENSG00000160305</th>\n",
       "      <td>489</td>\n",
       "      <td>611</td>\n",
       "      <td>752</td>\n",
       "      <td>555</td>\n",
       "      <td>639</td>\n",
       "      <td>762</td>\n",
       "    </tr>\n",
       "    <tr>\n",
       "      <th>ENSG00000160310</th>\n",
       "      <td>1068</td>\n",
       "      <td>1152</td>\n",
       "      <td>1507</td>\n",
       "      <td>1148</td>\n",
       "      <td>1320</td>\n",
       "      <td>1559</td>\n",
       "    </tr>\n",
       "    <tr>\n",
       "      <th>ENSG00000198888</th>\n",
       "      <td>16366</td>\n",
       "      <td>21542</td>\n",
       "      <td>28255</td>\n",
       "      <td>23038</td>\n",
       "      <td>27377</td>\n",
       "      <td>32406</td>\n",
       "    </tr>\n",
       "    <tr>\n",
       "      <th>ENSG00000198763</th>\n",
       "      <td>15949</td>\n",
       "      <td>20469</td>\n",
       "      <td>26809</td>\n",
       "      <td>22235</td>\n",
       "      <td>24617</td>\n",
       "      <td>29536</td>\n",
       "    </tr>\n",
       "    <tr>\n",
       "      <th>ENSG00000198804</th>\n",
       "      <td>107225</td>\n",
       "      <td>124081</td>\n",
       "      <td>160039</td>\n",
       "      <td>149080</td>\n",
       "      <td>162591</td>\n",
       "      <td>204231</td>\n",
       "    </tr>\n",
       "    <tr>\n",
       "      <th>ENSG00000198712</th>\n",
       "      <td>48491</td>\n",
       "      <td>60487</td>\n",
       "      <td>76645</td>\n",
       "      <td>64942</td>\n",
       "      <td>67948</td>\n",
       "      <td>84687</td>\n",
       "    </tr>\n",
       "    <tr>\n",
       "      <th>ENSG00000228253</th>\n",
       "      <td>6391</td>\n",
       "      <td>7826</td>\n",
       "      <td>8771</td>\n",
       "      <td>8714</td>\n",
       "      <td>8919</td>\n",
       "      <td>10894</td>\n",
       "    </tr>\n",
       "    <tr>\n",
       "      <th>ENSG00000198899</th>\n",
       "      <td>38090</td>\n",
       "      <td>42707</td>\n",
       "      <td>56041</td>\n",
       "      <td>53291</td>\n",
       "      <td>55516</td>\n",
       "      <td>66437</td>\n",
       "    </tr>\n",
       "    <tr>\n",
       "      <th>ENSG00000198938</th>\n",
       "      <td>46736</td>\n",
       "      <td>57614</td>\n",
       "      <td>70637</td>\n",
       "      <td>65817</td>\n",
       "      <td>71935</td>\n",
       "      <td>87939</td>\n",
       "    </tr>\n",
       "    <tr>\n",
       "      <th>ENSG00000198840</th>\n",
       "      <td>3896</td>\n",
       "      <td>4780</td>\n",
       "      <td>5653</td>\n",
       "      <td>5572</td>\n",
       "      <td>6030</td>\n",
       "      <td>7271</td>\n",
       "    </tr>\n",
       "    <tr>\n",
       "      <th>ENSG00000212907</th>\n",
       "      <td>9146</td>\n",
       "      <td>9739</td>\n",
       "      <td>13378</td>\n",
       "      <td>11678</td>\n",
       "      <td>12533</td>\n",
       "      <td>14856</td>\n",
       "    </tr>\n",
       "    <tr>\n",
       "      <th>ENSG00000198886</th>\n",
       "      <td>75453</td>\n",
       "      <td>82426</td>\n",
       "      <td>110457</td>\n",
       "      <td>102558</td>\n",
       "      <td>107234</td>\n",
       "      <td>132313</td>\n",
       "    </tr>\n",
       "    <tr>\n",
       "      <th>ENSG00000198786</th>\n",
       "      <td>35356</td>\n",
       "      <td>38288</td>\n",
       "      <td>49928</td>\n",
       "      <td>50804</td>\n",
       "      <td>53510</td>\n",
       "      <td>65151</td>\n",
       "    </tr>\n",
       "    <tr>\n",
       "      <th>ENSG00000198695</th>\n",
       "      <td>11079</td>\n",
       "      <td>12054</td>\n",
       "      <td>14886</td>\n",
       "      <td>16957</td>\n",
       "      <td>17677</td>\n",
       "      <td>21114</td>\n",
       "    </tr>\n",
       "    <tr>\n",
       "      <th>ENSG00000198727</th>\n",
       "      <td>22971</td>\n",
       "      <td>26397</td>\n",
       "      <td>35386</td>\n",
       "      <td>36239</td>\n",
       "      <td>38731</td>\n",
       "      <td>48355</td>\n",
       "    </tr>\n",
       "    <tr>\n",
       "      <th>ENSG00000276256</th>\n",
       "      <td>75</td>\n",
       "      <td>69</td>\n",
       "      <td>109</td>\n",
       "      <td>80</td>\n",
       "      <td>116</td>\n",
       "      <td>118</td>\n",
       "    </tr>\n",
       "    <tr>\n",
       "      <th>ENSG00000273748</th>\n",
       "      <td>23</td>\n",
       "      <td>28</td>\n",
       "      <td>26</td>\n",
       "      <td>45</td>\n",
       "      <td>40</td>\n",
       "      <td>54</td>\n",
       "    </tr>\n",
       "    <tr>\n",
       "      <th>ENSG00000278817</th>\n",
       "      <td>3</td>\n",
       "      <td>1</td>\n",
       "      <td>4</td>\n",
       "      <td>1</td>\n",
       "      <td>2</td>\n",
       "      <td>4</td>\n",
       "    </tr>\n",
       "    <tr>\n",
       "      <th>ENSG00000276345</th>\n",
       "      <td>72</td>\n",
       "      <td>73</td>\n",
       "      <td>91</td>\n",
       "      <td>55</td>\n",
       "      <td>67</td>\n",
       "      <td>87</td>\n",
       "    </tr>\n",
       "    <tr>\n",
       "      <th>ENSG00000271254</th>\n",
       "      <td>188</td>\n",
       "      <td>211</td>\n",
       "      <td>222</td>\n",
       "      <td>148</td>\n",
       "      <td>150</td>\n",
       "      <td>161</td>\n",
       "    </tr>\n",
       "  </tbody>\n",
       "</table>\n",
       "<p>13282 rows × 6 columns</p>\n",
       "</div>"
      ],
      "text/plain": [
       "                 SRR493366  SRR493367  SRR493368  SRR493369  SRR493370  \\\n",
       "ensgene                                                                  \n",
       "ENSG00000279457         23         28         29         29         28   \n",
       "ENSG00000187634        124        123        205        207        212   \n",
       "ENSG00000188976       1637       1831       2383       1226       1326   \n",
       "ENSG00000187961        120        153        180        236        255   \n",
       "ENSG00000187583         24         48         65         44         48   \n",
       "ENSG00000187642          4          9         16         14         16   \n",
       "ENSG00000188290         31         34         57        172        172   \n",
       "ENSG00000187608        244        289        386        373        422   \n",
       "ENSG00000188157       6547       6758       9367       9853      10483   \n",
       "ENSG00000131591        115        135        169        143        174   \n",
       "ENSG00000078808       3355       3427       4634       4963       5313   \n",
       "ENSG00000176022        555        744        925        950       1059   \n",
       "ENSG00000184163          4          5          2          6          3   \n",
       "ENSG00000160087        805        943       1261       1300       1439   \n",
       "ENSG00000162572         18         17         32         36         45   \n",
       "ENSG00000131584        654        794       1010       1198       1279   \n",
       "ENSG00000169972        186        209        233        225        244   \n",
       "ENSG00000127054        833        852       1144        867        844   \n",
       "ENSG00000224051        244        292        393        264        272   \n",
       "ENSG00000169962          4          4          9          3          6   \n",
       "ENSG00000107404        829        926       1255        891        983   \n",
       "ENSG00000162576       3604       3957       5289       6006       6638   \n",
       "ENSG00000175756        824        929       1210       1084       1088   \n",
       "ENSG00000221978        943        966       1346       1466       1685   \n",
       "ENSG00000242485        544        665        774        621        662   \n",
       "ENSG00000179403         98         84        109        113        117   \n",
       "ENSG00000160072        384        508        662        279        337   \n",
       "ENSG00000197785        634        832       1041        513        543   \n",
       "ENSG00000205090         34         30         30         53         39   \n",
       "ENSG00000160075       1422       1679       2153       1805       1960   \n",
       "...                    ...        ...        ...        ...        ...   \n",
       "ENSG00000183570         62         86        105         62         79   \n",
       "ENSG00000142156      43675      47671      62321      45996      52407   \n",
       "ENSG00000142173      39167      41639      55840      51079      56664   \n",
       "ENSG00000160282          4          7          8          4          6   \n",
       "ENSG00000160284        132        112        188        161        209   \n",
       "ENSG00000160285       1339       1463       1937       1306       1565   \n",
       "ENSG00000160294       1289       1471       1913       1784       2002   \n",
       "ENSG00000182362        109         92        114        124        140   \n",
       "ENSG00000160298         58         67         99         27         28   \n",
       "ENSG00000160299        627        694        916        642        725   \n",
       "ENSG00000160305        489        611        752        555        639   \n",
       "ENSG00000160310       1068       1152       1507       1148       1320   \n",
       "ENSG00000198888      16366      21542      28255      23038      27377   \n",
       "ENSG00000198763      15949      20469      26809      22235      24617   \n",
       "ENSG00000198804     107225     124081     160039     149080     162591   \n",
       "ENSG00000198712      48491      60487      76645      64942      67948   \n",
       "ENSG00000228253       6391       7826       8771       8714       8919   \n",
       "ENSG00000198899      38090      42707      56041      53291      55516   \n",
       "ENSG00000198938      46736      57614      70637      65817      71935   \n",
       "ENSG00000198840       3896       4780       5653       5572       6030   \n",
       "ENSG00000212907       9146       9739      13378      11678      12533   \n",
       "ENSG00000198886      75453      82426     110457     102558     107234   \n",
       "ENSG00000198786      35356      38288      49928      50804      53510   \n",
       "ENSG00000198695      11079      12054      14886      16957      17677   \n",
       "ENSG00000198727      22971      26397      35386      36239      38731   \n",
       "ENSG00000276256         75         69        109         80        116   \n",
       "ENSG00000273748         23         28         26         45         40   \n",
       "ENSG00000278817          3          1          4          1          2   \n",
       "ENSG00000276345         72         73         91         55         67   \n",
       "ENSG00000271254        188        211        222        148        150   \n",
       "\n",
       "                 SRR493371  \n",
       "ensgene                     \n",
       "ENSG00000279457         46  \n",
       "ENSG00000187634        258  \n",
       "ENSG00000188976       1504  \n",
       "ENSG00000187961        357  \n",
       "ENSG00000187583         64  \n",
       "ENSG00000187642         16  \n",
       "ENSG00000188290        223  \n",
       "ENSG00000187608        430  \n",
       "ENSG00000188157      13037  \n",
       "ENSG00000131591        225  \n",
       "ENSG00000078808       6517  \n",
       "ENSG00000176022       1339  \n",
       "ENSG00000184163          7  \n",
       "ENSG00000160087       1811  \n",
       "ENSG00000162572         50  \n",
       "ENSG00000131584       1657  \n",
       "ENSG00000169972        282  \n",
       "ENSG00000127054       1034  \n",
       "ENSG00000224051        360  \n",
       "ENSG00000169962         11  \n",
       "ENSG00000107404       1179  \n",
       "ENSG00000162576       7988  \n",
       "ENSG00000175756       1385  \n",
       "ENSG00000221978       1976  \n",
       "ENSG00000242485        767  \n",
       "ENSG00000179403        139  \n",
       "ENSG00000160072        387  \n",
       "ENSG00000197785        717  \n",
       "ENSG00000205090         59  \n",
       "ENSG00000160075       2327  \n",
       "...                    ...  \n",
       "ENSG00000183570         88  \n",
       "ENSG00000142156      59205  \n",
       "ENSG00000142173      66531  \n",
       "ENSG00000160282          5  \n",
       "ENSG00000160284        244  \n",
       "ENSG00000160285       1752  \n",
       "ENSG00000160294       2316  \n",
       "ENSG00000182362        139  \n",
       "ENSG00000160298         37  \n",
       "ENSG00000160299        754  \n",
       "ENSG00000160305        762  \n",
       "ENSG00000160310       1559  \n",
       "ENSG00000198888      32406  \n",
       "ENSG00000198763      29536  \n",
       "ENSG00000198804     204231  \n",
       "ENSG00000198712      84687  \n",
       "ENSG00000228253      10894  \n",
       "ENSG00000198899      66437  \n",
       "ENSG00000198938      87939  \n",
       "ENSG00000198840       7271  \n",
       "ENSG00000212907      14856  \n",
       "ENSG00000198886     132313  \n",
       "ENSG00000198786      65151  \n",
       "ENSG00000198695      21114  \n",
       "ENSG00000198727      48355  \n",
       "ENSG00000276256        118  \n",
       "ENSG00000273748         54  \n",
       "ENSG00000278817          4  \n",
       "ENSG00000276345         87  \n",
       "ENSG00000271254        161  \n",
       "\n",
       "[13282 rows x 6 columns]"
      ]
     },
     "execution_count": 42,
     "metadata": {},
     "output_type": "execute_result"
    }
   ],
   "source": [
    "gene_count_data[(gene_count_data > 0).all(axis=1)]\n",
    "\n"
   ]
  },
  {
   "cell_type": "code",
   "execution_count": 43,
   "metadata": {},
   "outputs": [
    {
     "data": {
      "text/html": [
       "<div>\n",
       "<table border=\"1\" class=\"dataframe\">\n",
       "  <thead>\n",
       "    <tr style=\"text-align: right;\">\n",
       "      <th></th>\n",
       "      <th>SRR493366</th>\n",
       "      <th>SRR493367</th>\n",
       "      <th>SRR493368</th>\n",
       "      <th>SRR493369</th>\n",
       "      <th>SRR493370</th>\n",
       "      <th>SRR493371</th>\n",
       "    </tr>\n",
       "    <tr>\n",
       "      <th>ensgene</th>\n",
       "      <th></th>\n",
       "      <th></th>\n",
       "      <th></th>\n",
       "      <th></th>\n",
       "      <th></th>\n",
       "      <th></th>\n",
       "    </tr>\n",
       "  </thead>\n",
       "  <tbody>\n",
       "    <tr>\n",
       "      <th>ENSG00000279457</th>\n",
       "      <td>23</td>\n",
       "      <td>28</td>\n",
       "      <td>29</td>\n",
       "      <td>29</td>\n",
       "      <td>28</td>\n",
       "      <td>46</td>\n",
       "    </tr>\n",
       "    <tr>\n",
       "      <th>ENSG00000187634</th>\n",
       "      <td>124</td>\n",
       "      <td>123</td>\n",
       "      <td>205</td>\n",
       "      <td>207</td>\n",
       "      <td>212</td>\n",
       "      <td>258</td>\n",
       "    </tr>\n",
       "    <tr>\n",
       "      <th>ENSG00000188976</th>\n",
       "      <td>1637</td>\n",
       "      <td>1831</td>\n",
       "      <td>2383</td>\n",
       "      <td>1226</td>\n",
       "      <td>1326</td>\n",
       "      <td>1504</td>\n",
       "    </tr>\n",
       "    <tr>\n",
       "      <th>ENSG00000187961</th>\n",
       "      <td>120</td>\n",
       "      <td>153</td>\n",
       "      <td>180</td>\n",
       "      <td>236</td>\n",
       "      <td>255</td>\n",
       "      <td>357</td>\n",
       "    </tr>\n",
       "    <tr>\n",
       "      <th>ENSG00000187583</th>\n",
       "      <td>24</td>\n",
       "      <td>48</td>\n",
       "      <td>65</td>\n",
       "      <td>44</td>\n",
       "      <td>48</td>\n",
       "      <td>64</td>\n",
       "    </tr>\n",
       "  </tbody>\n",
       "</table>\n",
       "</div>"
      ],
      "text/plain": [
       "                 SRR493366  SRR493367  SRR493368  SRR493369  SRR493370  \\\n",
       "ensgene                                                                  \n",
       "ENSG00000279457         23         28         29         29         28   \n",
       "ENSG00000187634        124        123        205        207        212   \n",
       "ENSG00000188976       1637       1831       2383       1226       1326   \n",
       "ENSG00000187961        120        153        180        236        255   \n",
       "ENSG00000187583         24         48         65         44         48   \n",
       "\n",
       "                 SRR493371  \n",
       "ensgene                     \n",
       "ENSG00000279457         46  \n",
       "ENSG00000187634        258  \n",
       "ENSG00000188976       1504  \n",
       "ENSG00000187961        357  \n",
       "ENSG00000187583         64  "
      ]
     },
     "execution_count": 43,
     "metadata": {},
     "output_type": "execute_result"
    }
   ],
   "source": [
    "genes_have_counts_data = gene_count_data[(gene_count_data > 0).all(axis=1)]\n",
    "genes_have_counts_data.head()"
   ]
  },
  {
   "cell_type": "code",
   "execution_count": 44,
   "metadata": {},
   "outputs": [
    {
     "data": {
      "text/html": [
       "<div>\n",
       "<table border=\"1\" class=\"dataframe\">\n",
       "  <thead>\n",
       "    <tr style=\"text-align: right;\">\n",
       "      <th></th>\n",
       "      <th>SRR493366</th>\n",
       "      <th>SRR493367</th>\n",
       "      <th>SRR493368</th>\n",
       "      <th>SRR493369</th>\n",
       "      <th>SRR493370</th>\n",
       "      <th>SRR493371</th>\n",
       "    </tr>\n",
       "  </thead>\n",
       "  <tbody>\n",
       "    <tr>\n",
       "      <th>count</th>\n",
       "      <td>13282.000000</td>\n",
       "      <td>13282.000000</td>\n",
       "      <td>13282.000000</td>\n",
       "      <td>13282.000000</td>\n",
       "      <td>13282.000000</td>\n",
       "      <td>13282.000000</td>\n",
       "    </tr>\n",
       "    <tr>\n",
       "      <th>mean</th>\n",
       "      <td>963.230086</td>\n",
       "      <td>1095.745897</td>\n",
       "      <td>1386.380816</td>\n",
       "      <td>1139.083798</td>\n",
       "      <td>1273.414094</td>\n",
       "      <td>1475.642147</td>\n",
       "    </tr>\n",
       "    <tr>\n",
       "      <th>std</th>\n",
       "      <td>5635.423540</td>\n",
       "      <td>6147.452412</td>\n",
       "      <td>7934.217618</td>\n",
       "      <td>6652.540821</td>\n",
       "      <td>7559.278842</td>\n",
       "      <td>8271.903228</td>\n",
       "    </tr>\n",
       "    <tr>\n",
       "      <th>min</th>\n",
       "      <td>1.000000</td>\n",
       "      <td>1.000000</td>\n",
       "      <td>1.000000</td>\n",
       "      <td>1.000000</td>\n",
       "      <td>1.000000</td>\n",
       "      <td>1.000000</td>\n",
       "    </tr>\n",
       "    <tr>\n",
       "      <th>25%</th>\n",
       "      <td>65.000000</td>\n",
       "      <td>72.000000</td>\n",
       "      <td>91.000000</td>\n",
       "      <td>70.000000</td>\n",
       "      <td>79.000000</td>\n",
       "      <td>91.000000</td>\n",
       "    </tr>\n",
       "    <tr>\n",
       "      <th>50%</th>\n",
       "      <td>271.000000</td>\n",
       "      <td>308.500000</td>\n",
       "      <td>389.000000</td>\n",
       "      <td>307.000000</td>\n",
       "      <td>345.000000</td>\n",
       "      <td>399.500000</td>\n",
       "    </tr>\n",
       "    <tr>\n",
       "      <th>75%</th>\n",
       "      <td>749.000000</td>\n",
       "      <td>858.000000</td>\n",
       "      <td>1077.000000</td>\n",
       "      <td>908.000000</td>\n",
       "      <td>1004.750000</td>\n",
       "      <td>1189.000000</td>\n",
       "    </tr>\n",
       "    <tr>\n",
       "      <th>max</th>\n",
       "      <td>389976.000000</td>\n",
       "      <td>425502.000000</td>\n",
       "      <td>542186.000000</td>\n",
       "      <td>411442.000000</td>\n",
       "      <td>476419.000000</td>\n",
       "      <td>506723.000000</td>\n",
       "    </tr>\n",
       "  </tbody>\n",
       "</table>\n",
       "</div>"
      ],
      "text/plain": [
       "           SRR493366      SRR493367      SRR493368      SRR493369  \\\n",
       "count   13282.000000   13282.000000   13282.000000   13282.000000   \n",
       "mean      963.230086    1095.745897    1386.380816    1139.083798   \n",
       "std      5635.423540    6147.452412    7934.217618    6652.540821   \n",
       "min         1.000000       1.000000       1.000000       1.000000   \n",
       "25%        65.000000      72.000000      91.000000      70.000000   \n",
       "50%       271.000000     308.500000     389.000000     307.000000   \n",
       "75%       749.000000     858.000000    1077.000000     908.000000   \n",
       "max    389976.000000  425502.000000  542186.000000  411442.000000   \n",
       "\n",
       "           SRR493370      SRR493371  \n",
       "count   13282.000000   13282.000000  \n",
       "mean     1273.414094    1475.642147  \n",
       "std      7559.278842    8271.903228  \n",
       "min         1.000000       1.000000  \n",
       "25%        79.000000      91.000000  \n",
       "50%       345.000000     399.500000  \n",
       "75%      1004.750000    1189.000000  \n",
       "max    476419.000000  506723.000000  "
      ]
     },
     "execution_count": 44,
     "metadata": {},
     "output_type": "execute_result"
    }
   ],
   "source": [
    "genes_have_counts_data.describe()"
   ]
  },
  {
   "cell_type": "code",
   "execution_count": 45,
   "metadata": {},
   "outputs": [
    {
     "data": {
      "text/plain": [
       "array([[<matplotlib.axes._subplots.AxesSubplot object at 0x11da00cf8>,\n",
       "        <matplotlib.axes._subplots.AxesSubplot object at 0x11d3744a8>],\n",
       "       [<matplotlib.axes._subplots.AxesSubplot object at 0x11dbf65f8>,\n",
       "        <matplotlib.axes._subplots.AxesSubplot object at 0x11e21d438>],\n",
       "       [<matplotlib.axes._subplots.AxesSubplot object at 0x11e278390>,\n",
       "        <matplotlib.axes._subplots.AxesSubplot object at 0x11e32b6a0>]], dtype=object)"
      ]
     },
     "execution_count": 45,
     "metadata": {},
     "output_type": "execute_result"
    },
    {
     "data": {
      "image/png": "[encoded data removed]",
      "text/plain": [
       "<matplotlib.figure.Figure at 0x11db105f8>"
      ]
     },
     "metadata": {},
     "output_type": "display_data"
    }
   ],
   "source": [
    "genes_have_counts_data.hist(log=True, bins=50)"
   ]
  },
  {
   "cell_type": "markdown",
   "metadata": {},
   "source": [
    "_Hands on - create a function which takes such a raw gene dataframe, applies a count threshold, and gets rid of the lengths_"
   ]
  },
  {
   "cell_type": "code",
   "execution_count": 54,
   "metadata": {},
   "outputs": [],
   "source": [
    "def gene_counts_above_threshold(dataframe, threshold=0):\n",
    "    \"\"\"\n",
    "    Returns a data frame from a given dataframe without any column named 'length', and \n",
    "    with rows such that every column is above threshold. \n",
    "    \n",
    "    dataframe: an input pandas dataframe\n",
    "    threshold: an threshold that all int64 columns must _exceed_ for the row to be kept\n",
    "    returns a pandas dataframe with the column named 'length' stripped, \n",
    "             and with rows such that all int64 columns are strictly above threshold\n",
    "    \"\"\"\n",
    "    no_length_column = dataframe[dataframe.columns.difference([\"length\"])]\n",
    "    \n",
    "    above_threshold = no_length_column[(no_length_column > threshold).all(axis=1)]\n",
    "    return above_threshold"
   ]
  },
  {
   "cell_type": "code",
   "execution_count": 50,
   "metadata": {},
   "outputs": [
    {
     "name": "stdout",
     "output_type": "stream",
     "text": [
      "Help on function gene_counts_above_threshold in module __main__:\n",
      "\n",
      "gene_counts_above_threshold(dataframe, threshold=0)\n",
      "    Returns a data frame from a given dataframe without any column named 'length', and \n",
      "    with rows such that every column is above threshold. \n",
      "    \n",
      "    dataframe: an input pandas dataframe\n",
      "    threshold: an threshold that all int64 columns must _exceed_ for the row to be kept\n",
      "    returns a pandas dataframe with the column named 'length' stripped, \n",
      "             and with rows such that all int64 columns are strictly above threshold\n",
      "\n"
     ]
    }
   ],
   "source": [
    "help(gene_counts_above_threshold)"
   ]
  },
  {
   "cell_type": "code",
   "execution_count": 163,
   "metadata": {},
   "outputs": [],
   "source": [
    "genes_have_counts_data = gene_counts_above_threshold(gene_data, 5)"
   ]
  },
  {
   "cell_type": "code",
   "execution_count": 164,
   "metadata": {
    "scrolled": true
   },
   "outputs": [
    {
     "data": {
      "text/html": [
       "<div>\n",
       "<table border=\"1\" class=\"dataframe\">\n",
       "  <thead>\n",
       "    <tr style=\"text-align: right;\">\n",
       "      <th></th>\n",
       "      <th>SRR493366</th>\n",
       "      <th>SRR493367</th>\n",
       "      <th>SRR493368</th>\n",
       "      <th>SRR493369</th>\n",
       "      <th>SRR493370</th>\n",
       "      <th>SRR493371</th>\n",
       "    </tr>\n",
       "    <tr>\n",
       "      <th>ensgene</th>\n",
       "      <th></th>\n",
       "      <th></th>\n",
       "      <th></th>\n",
       "      <th></th>\n",
       "      <th></th>\n",
       "      <th></th>\n",
       "    </tr>\n",
       "  </thead>\n",
       "  <tbody>\n",
       "    <tr>\n",
       "      <th>ENSG00000279457</th>\n",
       "      <td>23</td>\n",
       "      <td>28</td>\n",
       "      <td>29</td>\n",
       "      <td>29</td>\n",
       "      <td>28</td>\n",
       "      <td>46</td>\n",
       "    </tr>\n",
       "    <tr>\n",
       "      <th>ENSG00000187634</th>\n",
       "      <td>124</td>\n",
       "      <td>123</td>\n",
       "      <td>205</td>\n",
       "      <td>207</td>\n",
       "      <td>212</td>\n",
       "      <td>258</td>\n",
       "    </tr>\n",
       "    <tr>\n",
       "      <th>ENSG00000188976</th>\n",
       "      <td>1637</td>\n",
       "      <td>1831</td>\n",
       "      <td>2383</td>\n",
       "      <td>1226</td>\n",
       "      <td>1326</td>\n",
       "      <td>1504</td>\n",
       "    </tr>\n",
       "    <tr>\n",
       "      <th>ENSG00000187961</th>\n",
       "      <td>120</td>\n",
       "      <td>153</td>\n",
       "      <td>180</td>\n",
       "      <td>236</td>\n",
       "      <td>255</td>\n",
       "      <td>357</td>\n",
       "    </tr>\n",
       "    <tr>\n",
       "      <th>ENSG00000187583</th>\n",
       "      <td>24</td>\n",
       "      <td>48</td>\n",
       "      <td>65</td>\n",
       "      <td>44</td>\n",
       "      <td>48</td>\n",
       "      <td>64</td>\n",
       "    </tr>\n",
       "  </tbody>\n",
       "</table>\n",
       "</div>"
      ],
      "text/plain": [
       "                 SRR493366  SRR493367  SRR493368  SRR493369  SRR493370  \\\n",
       "ensgene                                                                  \n",
       "ENSG00000279457         23         28         29         29         28   \n",
       "ENSG00000187634        124        123        205        207        212   \n",
       "ENSG00000188976       1637       1831       2383       1226       1326   \n",
       "ENSG00000187961        120        153        180        236        255   \n",
       "ENSG00000187583         24         48         65         44         48   \n",
       "\n",
       "                 SRR493371  \n",
       "ensgene                     \n",
       "ENSG00000279457         46  \n",
       "ENSG00000187634        258  \n",
       "ENSG00000188976       1504  \n",
       "ENSG00000187961        357  \n",
       "ENSG00000187583         64  "
      ]
     },
     "execution_count": 164,
     "metadata": {},
     "output_type": "execute_result"
    }
   ],
   "source": [
    "genes_have_counts_data.head()"
   ]
  },
  {
   "cell_type": "code",
   "execution_count": 166,
   "metadata": {},
   "outputs": [
    {
     "data": {
      "text/plain": [
       "array([[<matplotlib.axes._subplots.AxesSubplot object at 0x12d511d68>,\n",
       "        <matplotlib.axes._subplots.AxesSubplot object at 0x12db094a8>],\n",
       "       [<matplotlib.axes._subplots.AxesSubplot object at 0x12db45518>,\n",
       "        <matplotlib.axes._subplots.AxesSubplot object at 0x12db7f748>],\n",
       "       [<matplotlib.axes._subplots.AxesSubplot object at 0x12dbcd080>,\n",
       "        <matplotlib.axes._subplots.AxesSubplot object at 0x12dc08860>]], dtype=object)"
      ]
     },
     "execution_count": 166,
     "metadata": {},
     "output_type": "execute_result"
    },
    {
     "data": {
      "image/png": "[encoded data removed]",
      "text/plain": [
       "<matplotlib.figure.Figure at 0x12d5ef908>"
      ]
     },
     "metadata": {},
     "output_type": "display_data"
    }
   ],
   "source": [
    "genes_have_counts_data.hist(log=True, bins=50)"
   ]
  },
  {
   "cell_type": "markdown",
   "metadata": {},
   "source": [
    "Ok, so now we have the rows and columns we want, and we're ready to start doing some very crude analyses.\n",
    "However, we need to scale the data across samples; we might just have more data overall from one sample\n",
    "so that the counts would seem elevated compared to another.  A simple but crude way to do that scaling is\n",
    "to scale by some average number of counts:"
   ]
  },
  {
   "cell_type": "code",
   "execution_count": 167,
   "metadata": {
    "scrolled": true
   },
   "outputs": [
    {
     "data": {
      "text/plain": [
       "SRR493366    1068.233584\n",
       "SRR493367    1215.196324\n",
       "SRR493368    1537.521637\n",
       "SRR493369    1263.169758\n",
       "SRR493370    1412.163743\n",
       "SRR493371    1636.372932\n",
       "dtype: float64"
      ]
     },
     "execution_count": 167,
     "metadata": {},
     "output_type": "execute_result"
    }
   ],
   "source": [
    "genes_have_counts_data.mean()"
   ]
  },
  {
   "cell_type": "code",
   "execution_count": 168,
   "metadata": {},
   "outputs": [],
   "source": [
    "scaled_data = genes_have_counts_data / genes_have_counts_data.mean()"
   ]
  },
  {
   "cell_type": "code",
   "execution_count": 169,
   "metadata": {},
   "outputs": [
    {
     "data": {
      "text/html": [
       "<div>\n",
       "<table border=\"1\" class=\"dataframe\">\n",
       "  <thead>\n",
       "    <tr style=\"text-align: right;\">\n",
       "      <th></th>\n",
       "      <th>SRR493366</th>\n",
       "      <th>SRR493367</th>\n",
       "      <th>SRR493368</th>\n",
       "      <th>SRR493369</th>\n",
       "      <th>SRR493370</th>\n",
       "      <th>SRR493371</th>\n",
       "    </tr>\n",
       "    <tr>\n",
       "      <th>ensgene</th>\n",
       "      <th></th>\n",
       "      <th></th>\n",
       "      <th></th>\n",
       "      <th></th>\n",
       "      <th></th>\n",
       "      <th></th>\n",
       "    </tr>\n",
       "  </thead>\n",
       "  <tbody>\n",
       "    <tr>\n",
       "      <th>ENSG00000279457</th>\n",
       "      <td>0.021531</td>\n",
       "      <td>0.023042</td>\n",
       "      <td>0.018862</td>\n",
       "      <td>0.022958</td>\n",
       "      <td>0.019828</td>\n",
       "      <td>0.028111</td>\n",
       "    </tr>\n",
       "    <tr>\n",
       "      <th>ENSG00000187634</th>\n",
       "      <td>0.116079</td>\n",
       "      <td>0.101218</td>\n",
       "      <td>0.133331</td>\n",
       "      <td>0.163873</td>\n",
       "      <td>0.150124</td>\n",
       "      <td>0.157666</td>\n",
       "    </tr>\n",
       "    <tr>\n",
       "      <th>ENSG00000188976</th>\n",
       "      <td>1.532436</td>\n",
       "      <td>1.506752</td>\n",
       "      <td>1.549897</td>\n",
       "      <td>0.970574</td>\n",
       "      <td>0.938985</td>\n",
       "      <td>0.919106</td>\n",
       "    </tr>\n",
       "    <tr>\n",
       "      <th>ENSG00000187961</th>\n",
       "      <td>0.112335</td>\n",
       "      <td>0.125906</td>\n",
       "      <td>0.117072</td>\n",
       "      <td>0.186832</td>\n",
       "      <td>0.180574</td>\n",
       "      <td>0.218165</td>\n",
       "    </tr>\n",
       "    <tr>\n",
       "      <th>ENSG00000187583</th>\n",
       "      <td>0.022467</td>\n",
       "      <td>0.039500</td>\n",
       "      <td>0.042276</td>\n",
       "      <td>0.034833</td>\n",
       "      <td>0.033990</td>\n",
       "      <td>0.039111</td>\n",
       "    </tr>\n",
       "  </tbody>\n",
       "</table>\n",
       "</div>"
      ],
      "text/plain": [
       "                 SRR493366  SRR493367  SRR493368  SRR493369  SRR493370  \\\n",
       "ensgene                                                                  \n",
       "ENSG00000279457   0.021531   0.023042   0.018862   0.022958   0.019828   \n",
       "ENSG00000187634   0.116079   0.101218   0.133331   0.163873   0.150124   \n",
       "ENSG00000188976   1.532436   1.506752   1.549897   0.970574   0.938985   \n",
       "ENSG00000187961   0.112335   0.125906   0.117072   0.186832   0.180574   \n",
       "ENSG00000187583   0.022467   0.039500   0.042276   0.034833   0.033990   \n",
       "\n",
       "                 SRR493371  \n",
       "ensgene                     \n",
       "ENSG00000279457   0.028111  \n",
       "ENSG00000187634   0.157666  \n",
       "ENSG00000188976   0.919106  \n",
       "ENSG00000187961   0.218165  \n",
       "ENSG00000187583   0.039111  "
      ]
     },
     "execution_count": 169,
     "metadata": {},
     "output_type": "execute_result"
    }
   ],
   "source": [
    "scaled_data.head()"
   ]
  },
  {
   "cell_type": "code",
   "execution_count": 170,
   "metadata": {},
   "outputs": [
    {
     "data": {
      "text/html": [
       "<div>\n",
       "<table border=\"1\" class=\"dataframe\">\n",
       "  <thead>\n",
       "    <tr style=\"text-align: right;\">\n",
       "      <th></th>\n",
       "      <th>SRR493366</th>\n",
       "      <th>SRR493367</th>\n",
       "      <th>SRR493368</th>\n",
       "      <th>SRR493369</th>\n",
       "      <th>SRR493370</th>\n",
       "      <th>SRR493371</th>\n",
       "    </tr>\n",
       "  </thead>\n",
       "  <tbody>\n",
       "    <tr>\n",
       "      <th>count</th>\n",
       "      <td>11970.000000</td>\n",
       "      <td>11970.000000</td>\n",
       "      <td>11970.000000</td>\n",
       "      <td>11970.000000</td>\n",
       "      <td>11970.000000</td>\n",
       "      <td>11970.000000</td>\n",
       "    </tr>\n",
       "    <tr>\n",
       "      <th>mean</th>\n",
       "      <td>1.000000</td>\n",
       "      <td>1.000000</td>\n",
       "      <td>1.000000</td>\n",
       "      <td>1.000000</td>\n",
       "      <td>1.000000</td>\n",
       "      <td>1.000000</td>\n",
       "    </tr>\n",
       "    <tr>\n",
       "      <th>std</th>\n",
       "      <td>5.548273</td>\n",
       "      <td>5.319684</td>\n",
       "      <td>5.426867</td>\n",
       "      <td>5.538878</td>\n",
       "      <td>5.630062</td>\n",
       "      <td>5.315697</td>\n",
       "    </tr>\n",
       "    <tr>\n",
       "      <th>min</th>\n",
       "      <td>0.005617</td>\n",
       "      <td>0.004937</td>\n",
       "      <td>0.003902</td>\n",
       "      <td>0.004750</td>\n",
       "      <td>0.004249</td>\n",
       "      <td>0.003667</td>\n",
       "    </tr>\n",
       "    <tr>\n",
       "      <th>25%</th>\n",
       "      <td>0.106718</td>\n",
       "      <td>0.105333</td>\n",
       "      <td>0.105364</td>\n",
       "      <td>0.097374</td>\n",
       "      <td>0.098431</td>\n",
       "      <td>0.098388</td>\n",
       "    </tr>\n",
       "    <tr>\n",
       "      <th>50%</th>\n",
       "      <td>0.312666</td>\n",
       "      <td>0.312707</td>\n",
       "      <td>0.309914</td>\n",
       "      <td>0.303205</td>\n",
       "      <td>0.304497</td>\n",
       "      <td>0.306165</td>\n",
       "    </tr>\n",
       "    <tr>\n",
       "      <th>75%</th>\n",
       "      <td>0.776750</td>\n",
       "      <td>0.787527</td>\n",
       "      <td>0.777225</td>\n",
       "      <td>0.805117</td>\n",
       "      <td>0.807095</td>\n",
       "      <td>0.813995</td>\n",
       "    </tr>\n",
       "    <tr>\n",
       "      <th>max</th>\n",
       "      <td>365.066223</td>\n",
       "      <td>350.150829</td>\n",
       "      <td>352.636338</td>\n",
       "      <td>325.721858</td>\n",
       "      <td>337.368101</td>\n",
       "      <td>309.662296</td>\n",
       "    </tr>\n",
       "  </tbody>\n",
       "</table>\n",
       "</div>"
      ],
      "text/plain": [
       "          SRR493366     SRR493367     SRR493368     SRR493369     SRR493370  \\\n",
       "count  11970.000000  11970.000000  11970.000000  11970.000000  11970.000000   \n",
       "mean       1.000000      1.000000      1.000000      1.000000      1.000000   \n",
       "std        5.548273      5.319684      5.426867      5.538878      5.630062   \n",
       "min        0.005617      0.004937      0.003902      0.004750      0.004249   \n",
       "25%        0.106718      0.105333      0.105364      0.097374      0.098431   \n",
       "50%        0.312666      0.312707      0.309914      0.303205      0.304497   \n",
       "75%        0.776750      0.787527      0.777225      0.805117      0.807095   \n",
       "max      365.066223    350.150829    352.636338    325.721858    337.368101   \n",
       "\n",
       "          SRR493371  \n",
       "count  11970.000000  \n",
       "mean       1.000000  \n",
       "std        5.315697  \n",
       "min        0.003667  \n",
       "25%        0.098388  \n",
       "50%        0.306165  \n",
       "75%        0.813995  \n",
       "max      309.662296  "
      ]
     },
     "execution_count": 170,
     "metadata": {},
     "output_type": "execute_result"
    }
   ],
   "source": [
    "scaled_data.describe()"
   ]
  },
  {
   "cell_type": "markdown",
   "metadata": {},
   "source": [
    "Scaling by mean is actually a pretty bad idea, because a few highly-expressed genes can badly skew the mean.\n",
    "A more robust method is to scale by the median - do that now"
   ]
  },
  {
   "cell_type": "code",
   "execution_count": 171,
   "metadata": {},
   "outputs": [
    {
     "name": "stdout",
     "output_type": "stream",
     "text": [
      "                 SRR493366  SRR493367  SRR493368  SRR493369  SRR493370  \\\n",
      "ensgene                                                                  \n",
      "ENSG00000279457   0.068862   0.073684   0.060860   0.075718   0.065116   \n",
      "ENSG00000187634   0.371257   0.323684   0.430220   0.540470   0.493023   \n",
      "ENSG00000188976   4.901198   4.818421   5.001049   3.201044   3.083721   \n",
      "ENSG00000187961   0.359281   0.402632   0.377754   0.616188   0.593023   \n",
      "ENSG00000187583   0.071856   0.126316   0.136411   0.114883   0.111628   \n",
      "\n",
      "                 SRR493371  \n",
      "ensgene                     \n",
      "ENSG00000279457   0.091816  \n",
      "ENSG00000187634   0.514970  \n",
      "ENSG00000188976   3.001996  \n",
      "ENSG00000187961   0.712575  \n",
      "ENSG00000187583   0.127745  \n",
      "          SRR493366     SRR493367     SRR493368     SRR493369     SRR493370  \\\n",
      "count  11970.000000  11970.000000  11970.000000  11970.000000  11970.000000   \n",
      "mean       3.198304      3.197885      3.226698      3.298093      3.284102   \n",
      "std       17.745064     17.011737     17.510860     18.267737     18.489697   \n",
      "min        0.017964      0.015789      0.012592      0.015666      0.013953   \n",
      "25%        0.341317      0.336842      0.339979      0.321149      0.323256   \n",
      "50%        1.000000      1.000000      1.000000      1.000000      1.000000   \n",
      "75%        2.484281      2.518421      2.507870      2.655352      2.650581   \n",
      "max     1167.592814   1119.742105   1137.850997   1074.261097   1107.951163   \n",
      "\n",
      "          SRR493371  \n",
      "count  11970.000000  \n",
      "mean       3.266213  \n",
      "std       17.362200  \n",
      "min        0.011976  \n",
      "25%        0.321357  \n",
      "50%        1.000000  \n",
      "75%        2.658683  \n",
      "max     1011.423154  \n"
     ]
    }
   ],
   "source": [
    "scaled_data = genes_have_counts_data / genes_have_counts_data.median()\n",
    "print(scaled_data.head())\n",
    "print(scaled_data.describe())"
   ]
  },
  {
   "cell_type": "markdown",
   "metadata": {},
   "source": [
    "Let's do a little sanity check, and use a PCA to see if the samples we expect to be most similar in gene counts\n",
    "in fact are - we expect the control samples (first three) to cluster together, and the treatment samples (last three)\n",
    "to cluster together"
   ]
  },
  {
   "cell_type": "code",
   "execution_count": 172,
   "metadata": {},
   "outputs": [
    {
     "name": "stdout",
     "output_type": "stream",
     "text": [
      "[[-20.21252387   1.72118593]\n",
      " [-21.36436765  -1.61000477]\n",
      " [-21.12586582  -0.7095232 ]\n",
      " [ 20.76081705   0.50899454]\n",
      " [ 17.32916166   3.75675258]\n",
      " [ 24.61277862  -3.66740508]]\n"
     ]
    },
    {
     "data": {
      "text/plain": [
       "<matplotlib.text.Text at 0x12eae1710>"
      ]
     },
     "execution_count": 172,
     "metadata": {},
     "output_type": "execute_result"
    },
    {
     "data": {
      "image/png": "[encoded data removed]",
      "text/plain": [
       "<matplotlib.figure.Figure at 0x12eadb048>"
      ]
     },
     "metadata": {},
     "output_type": "display_data"
    }
   ],
   "source": [
    "from sklearn.decomposition import PCA\n",
    "from sklearn.preprocessing import scale\n",
    "\n",
    "pca = PCA(n_components=2).fit_transform(scale(scaled_data).T)\n",
    "print(pca)\n",
    "plt.scatter(pca[:,0], pca[:,1])\n",
    "plt.xlabel(\"1st PCA\")\n",
    "plt.ylabel(\"2nd PCA\")"
   ]
  },
  {
   "cell_type": "markdown",
   "metadata": {},
   "source": [
    "So this seems promising.  Now let's generate an MA plot - mean expression of the gene across all samples, \n",
    "_vs_ the change in expression, all log2 scaled"
   ]
  },
  {
   "cell_type": "code",
   "execution_count": 173,
   "metadata": {},
   "outputs": [
    {
     "data": {
      "text/plain": [
       "ensgene\n",
       "ENSG00000279457   -3.782372\n",
       "ENSG00000187634   -1.166165\n",
       "ENSG00000188976    2.000447\n",
       "ENSG00000187961   -0.970746\n",
       "ENSG00000187583   -3.122725\n",
       "dtype: float64"
      ]
     },
     "execution_count": 173,
     "metadata": {},
     "output_type": "execute_result"
    }
   ],
   "source": [
    "np.log2(scaled_data.mean(axis=1))[:5]"
   ]
  },
  {
   "cell_type": "code",
   "execution_count": 174,
   "metadata": {},
   "outputs": [
    {
     "name": "stdout",
     "output_type": "stream",
     "text": [
      "ensgene\n",
      "ENSG00000279457   -3.882522\n",
      "ENSG00000187634   -1.414830\n",
      "ENSG00000188976    2.294809\n",
      "ENSG00000187961   -1.396350\n",
      "ENSG00000187583   -3.164525\n",
      "dtype: float64\n",
      "ensgene\n",
      "ENSG00000279457   -3.688725\n",
      "ENSG00000187634   -0.954125\n",
      "ENSG00000188976    1.630213\n",
      "ENSG00000187961   -0.642515\n",
      "ENSG00000187583   -3.082103\n",
      "dtype: float64\n",
      "ensgene\n",
      "ENSG00000279457    0.193796\n",
      "ENSG00000187634    0.460704\n",
      "ENSG00000188976   -0.664596\n",
      "ENSG00000187961    0.753835\n",
      "ENSG00000187583    0.082422\n",
      "dtype: float64\n"
     ]
    }
   ],
   "source": [
    "A_untreated = np.log2(scaled_data[scaled_data.columns[0:3]].mean(axis=1))\n",
    "A_treated = np.log2(scaled_data[scaled_data.columns[3:7]].mean(axis=1))\n",
    "A = 1./2. *(A_untreated + A_treated)\n",
    "M = A_treated - A_untreated\n",
    "\n",
    "print(A_untreated[:5])\n",
    "print(A_treated[:5])\n",
    "print(M[:5])"
   ]
  },
  {
   "cell_type": "code",
   "execution_count": 175,
   "metadata": {
    "collapsed": true
   },
   "outputs": [],
   "source": [
    "scaled_data['M'] = M\n",
    "scaled_data['A'] = A"
   ]
  },
  {
   "cell_type": "code",
   "execution_count": 176,
   "metadata": {},
   "outputs": [
    {
     "data": {
      "text/plain": [
       "<matplotlib.text.Text at 0x12e8cc470>"
      ]
     },
     "execution_count": 176,
     "metadata": {},
     "output_type": "execute_result"
    },
    {
     "data": {
      "image/png": "[encoded data removed]",
      "text/plain": [
       "<matplotlib.figure.Figure at 0x12eddeda0>"
      ]
     },
     "metadata": {},
     "output_type": "display_data"
    }
   ],
   "source": [
    "plt.scatter(scaled_data.A, scaled_data.M)\n",
    "plt.xlabel('A')\n",
    "plt.ylabel('M')"
   ]
  },
  {
   "cell_type": "markdown",
   "metadata": {},
   "source": [
    "Now we're going to make a volcano plot: p-value of change in expression vs change in expression\n",
    "\n",
    "We'll calculate the p-values _very_ crudely by doing a 2-sided independent t-test of the scaled counts in the \n",
    "control and treatment samples.   This will require looking at the data a little differently - we're going to\n",
    "be processing subsets of columns for each row."
   ]
  },
  {
   "cell_type": "code",
   "execution_count": 177,
   "metadata": {
    "collapsed": true
   },
   "outputs": [],
   "source": [
    "from scipy.stats import ttest_ind"
   ]
  },
  {
   "cell_type": "code",
   "execution_count": 178,
   "metadata": {},
   "outputs": [
    {
     "data": {
      "text/plain": [
       "array([ 0.06886228,  0.07368421,  0.06086044,  0.07571802,  0.06511628,\n",
       "        0.09181637,  0.19379648, -3.78562355])"
      ]
     },
     "execution_count": 178,
     "metadata": {},
     "output_type": "execute_result"
    }
   ],
   "source": [
    "onerow = scaled_data[0:1]\n",
    "onerow.values[0]"
   ]
  },
  {
   "cell_type": "code",
   "execution_count": 179,
   "metadata": {},
   "outputs": [
    {
     "data": {
      "text/plain": [
       "array([ 0.06886228,  0.07368421,  0.06086044])"
      ]
     },
     "execution_count": 179,
     "metadata": {},
     "output_type": "execute_result"
    }
   ],
   "source": [
    "onerow.values[0][0:3]"
   ]
  },
  {
   "cell_type": "code",
   "execution_count": 180,
   "metadata": {},
   "outputs": [
    {
     "data": {
      "text/plain": [
       "Ttest_indResult(statistic=-1.131398746481594, pvalue=0.32112132570758473)"
      ]
     },
     "execution_count": 180,
     "metadata": {},
     "output_type": "execute_result"
    }
   ],
   "source": [
    "ttest_ind(onerow.values[0][0:3], onerow.values[0][3:6])"
   ]
  },
  {
   "cell_type": "code",
   "execution_count": 181,
   "metadata": {},
   "outputs": [
    {
     "data": {
      "text/plain": [
       "0.3196217469549546"
      ]
     },
     "execution_count": 181,
     "metadata": {},
     "output_type": "execute_result"
    }
   ],
   "source": [
    "ttest_ind(onerow.values[0][0:3], onerow.values[0][3:7]).pvalue"
   ]
  },
  {
   "cell_type": "code",
   "execution_count": 182,
   "metadata": {
    "collapsed": true
   },
   "outputs": [],
   "source": [
    "def gene_pvalue(dataframe_row):\n",
    "    control = dataframe_row[0:3]\n",
    "    treatment = dataframe_row[3:7]\n",
    "    return ttest_ind(control, treatment).pvalue"
   ]
  },
  {
   "cell_type": "code",
   "execution_count": 183,
   "metadata": {},
   "outputs": [
    {
     "data": {
      "text/plain": [
       "0.3196217469549546"
      ]
     },
     "execution_count": 183,
     "metadata": {},
     "output_type": "execute_result"
    }
   ],
   "source": [
    "gene_pvalue(onerow.values[0])"
   ]
  },
  {
   "cell_type": "code",
   "execution_count": 184,
   "metadata": {},
   "outputs": [],
   "source": [
    "foo = scaled_data.apply(gene_pvalue, axis=1)"
   ]
  },
  {
   "cell_type": "markdown",
   "metadata": {},
   "source": [
    "Hands on: make a \"p_value\" column in the scaled_data dataframe, and plot M along x axis and -log10 p_value along y axis"
   ]
  },
  {
   "cell_type": "code",
   "execution_count": 185,
   "metadata": {},
   "outputs": [
    {
     "data": {
      "text/plain": [
       "<matplotlib.text.Text at 0x12ee5be80>"
      ]
     },
     "execution_count": 185,
     "metadata": {},
     "output_type": "execute_result"
    },
    {
     "data": {
      "image/png": "[encoded data removed]",
      "text/plain": [
       "<matplotlib.figure.Figure at 0x12ef32d30>"
      ]
     },
     "metadata": {},
     "output_type": "display_data"
    }
   ],
   "source": [
    "scaled_data['p_value'] = scaled_data.apply(gene_pvalue, axis=1)\n",
    "plt.scatter(scaled_data['M'], -np.log10(scaled_data['p_value']))\n",
    "plt.xlabel('Log2 change in expression')\n",
    "plt.ylabel('-Log10 p_value')"
   ]
  },
  {
   "cell_type": "code",
   "execution_count": 190,
   "metadata": {},
   "outputs": [],
   "source": [
    "sorted_data = scaled_data.sort_values('p_value')"
   ]
  },
  {
   "cell_type": "code",
   "execution_count": 192,
   "metadata": {},
   "outputs": [
    {
     "data": {
      "text/html": [
       "<div>\n",
       "<table border=\"1\" class=\"dataframe\">\n",
       "  <thead>\n",
       "    <tr style=\"text-align: right;\">\n",
       "      <th></th>\n",
       "      <th>SRR493366</th>\n",
       "      <th>SRR493367</th>\n",
       "      <th>SRR493368</th>\n",
       "      <th>SRR493369</th>\n",
       "      <th>SRR493370</th>\n",
       "      <th>SRR493371</th>\n",
       "      <th>M</th>\n",
       "      <th>A</th>\n",
       "      <th>p_value</th>\n",
       "    </tr>\n",
       "    <tr>\n",
       "      <th>ensgene</th>\n",
       "      <th></th>\n",
       "      <th></th>\n",
       "      <th></th>\n",
       "      <th></th>\n",
       "      <th></th>\n",
       "      <th></th>\n",
       "      <th></th>\n",
       "      <th></th>\n",
       "      <th></th>\n",
       "    </tr>\n",
       "  </thead>\n",
       "  <tbody>\n",
       "    <tr>\n",
       "      <th>ENSG00000112406</th>\n",
       "      <td>0.556886</td>\n",
       "      <td>0.473684</td>\n",
       "      <td>0.528856</td>\n",
       "      <td>1.629243</td>\n",
       "      <td>1.660465</td>\n",
       "      <td>1.694611</td>\n",
       "      <td>1.676381</td>\n",
       "      <td>-0.105756</td>\n",
       "      <td>1.184934e-07</td>\n",
       "    </tr>\n",
       "    <tr>\n",
       "      <th>ENSG00000127951</th>\n",
       "      <td>0.544910</td>\n",
       "      <td>0.513158</td>\n",
       "      <td>0.526758</td>\n",
       "      <td>1.378590</td>\n",
       "      <td>1.302326</td>\n",
       "      <td>1.351297</td>\n",
       "      <td>1.347248</td>\n",
       "      <td>-0.247014</td>\n",
       "      <td>1.751737e-07</td>\n",
       "    </tr>\n",
       "    <tr>\n",
       "      <th>ENSG00000257704</th>\n",
       "      <td>0.401198</td>\n",
       "      <td>0.407895</td>\n",
       "      <td>0.407135</td>\n",
       "      <td>0.603133</td>\n",
       "      <td>0.623256</td>\n",
       "      <td>0.628743</td>\n",
       "      <td>0.609108</td>\n",
       "      <td>-0.997995</td>\n",
       "      <td>9.273077e-07</td>\n",
       "    </tr>\n",
       "    <tr>\n",
       "      <th>ENSG00000198169</th>\n",
       "      <td>0.476048</td>\n",
       "      <td>0.523684</td>\n",
       "      <td>0.482686</td>\n",
       "      <td>0.911227</td>\n",
       "      <td>0.913953</td>\n",
       "      <td>0.920160</td>\n",
       "      <td>0.889032</td>\n",
       "      <td>-0.572494</td>\n",
       "      <td>1.095832e-06</td>\n",
       "    </tr>\n",
       "    <tr>\n",
       "      <th>ENSG00000114796</th>\n",
       "      <td>0.532934</td>\n",
       "      <td>0.397368</td>\n",
       "      <td>0.503673</td>\n",
       "      <td>2.357702</td>\n",
       "      <td>2.281395</td>\n",
       "      <td>2.528942</td>\n",
       "      <td>2.321559</td>\n",
       "      <td>0.095837</td>\n",
       "      <td>1.595045e-06</td>\n",
       "    </tr>\n",
       "  </tbody>\n",
       "</table>\n",
       "</div>"
      ],
      "text/plain": [
       "                 SRR493366  SRR493367  SRR493368  SRR493369  SRR493370  \\\n",
       "ensgene                                                                  \n",
       "ENSG00000112406   0.556886   0.473684   0.528856   1.629243   1.660465   \n",
       "ENSG00000127951   0.544910   0.513158   0.526758   1.378590   1.302326   \n",
       "ENSG00000257704   0.401198   0.407895   0.407135   0.603133   0.623256   \n",
       "ENSG00000198169   0.476048   0.523684   0.482686   0.911227   0.913953   \n",
       "ENSG00000114796   0.532934   0.397368   0.503673   2.357702   2.281395   \n",
       "\n",
       "                 SRR493371         M         A       p_value  \n",
       "ensgene                                                       \n",
       "ENSG00000112406   1.694611  1.676381 -0.105756  1.184934e-07  \n",
       "ENSG00000127951   1.351297  1.347248 -0.247014  1.751737e-07  \n",
       "ENSG00000257704   0.628743  0.609108 -0.997995  9.273077e-07  \n",
       "ENSG00000198169   0.920160  0.889032 -0.572494  1.095832e-06  \n",
       "ENSG00000114796   2.528942  2.321559  0.095837  1.595045e-06  "
      ]
     },
     "execution_count": 192,
     "metadata": {},
     "output_type": "execute_result"
    }
   ],
   "source": [
    "sorted_data.head()"
   ]
  },
  {
   "cell_type": "markdown",
   "metadata": {},
   "source": [
    "Now you could start applying the appropriate multiple-hypothesis testing corrections to see if any of these changes were significant.  A Bonferroni correction would look like"
   ]
  },
  {
   "cell_type": "code",
   "execution_count": 199,
   "metadata": {
    "collapsed": true
   },
   "outputs": [],
   "source": [
    "sorted_data['bonferroni'] = sorted_data['p_value'] * sorted_data.shape[0]"
   ]
  },
  {
   "cell_type": "code",
   "execution_count": 200,
   "metadata": {},
   "outputs": [
    {
     "data": {
      "text/html": [
       "<div>\n",
       "<table border=\"1\" class=\"dataframe\">\n",
       "  <thead>\n",
       "    <tr style=\"text-align: right;\">\n",
       "      <th></th>\n",
       "      <th>SRR493366</th>\n",
       "      <th>SRR493367</th>\n",
       "      <th>SRR493368</th>\n",
       "      <th>SRR493369</th>\n",
       "      <th>SRR493370</th>\n",
       "      <th>SRR493371</th>\n",
       "      <th>M</th>\n",
       "      <th>A</th>\n",
       "      <th>p_value</th>\n",
       "      <th>bonferroni</th>\n",
       "    </tr>\n",
       "    <tr>\n",
       "      <th>ensgene</th>\n",
       "      <th></th>\n",
       "      <th></th>\n",
       "      <th></th>\n",
       "      <th></th>\n",
       "      <th></th>\n",
       "      <th></th>\n",
       "      <th></th>\n",
       "      <th></th>\n",
       "      <th></th>\n",
       "      <th></th>\n",
       "    </tr>\n",
       "  </thead>\n",
       "  <tbody>\n",
       "    <tr>\n",
       "      <th>ENSG00000112406</th>\n",
       "      <td>0.556886</td>\n",
       "      <td>0.473684</td>\n",
       "      <td>0.528856</td>\n",
       "      <td>1.629243</td>\n",
       "      <td>1.660465</td>\n",
       "      <td>1.694611</td>\n",
       "      <td>1.676381</td>\n",
       "      <td>-0.105756</td>\n",
       "      <td>1.184934e-07</td>\n",
       "      <td>0.001418</td>\n",
       "    </tr>\n",
       "    <tr>\n",
       "      <th>ENSG00000127951</th>\n",
       "      <td>0.544910</td>\n",
       "      <td>0.513158</td>\n",
       "      <td>0.526758</td>\n",
       "      <td>1.378590</td>\n",
       "      <td>1.302326</td>\n",
       "      <td>1.351297</td>\n",
       "      <td>1.347248</td>\n",
       "      <td>-0.247014</td>\n",
       "      <td>1.751737e-07</td>\n",
       "      <td>0.002097</td>\n",
       "    </tr>\n",
       "    <tr>\n",
       "      <th>ENSG00000257704</th>\n",
       "      <td>0.401198</td>\n",
       "      <td>0.407895</td>\n",
       "      <td>0.407135</td>\n",
       "      <td>0.603133</td>\n",
       "      <td>0.623256</td>\n",
       "      <td>0.628743</td>\n",
       "      <td>0.609108</td>\n",
       "      <td>-0.997995</td>\n",
       "      <td>9.273077e-07</td>\n",
       "      <td>0.011100</td>\n",
       "    </tr>\n",
       "    <tr>\n",
       "      <th>ENSG00000198169</th>\n",
       "      <td>0.476048</td>\n",
       "      <td>0.523684</td>\n",
       "      <td>0.482686</td>\n",
       "      <td>0.911227</td>\n",
       "      <td>0.913953</td>\n",
       "      <td>0.920160</td>\n",
       "      <td>0.889032</td>\n",
       "      <td>-0.572494</td>\n",
       "      <td>1.095832e-06</td>\n",
       "      <td>0.013117</td>\n",
       "    </tr>\n",
       "    <tr>\n",
       "      <th>ENSG00000114796</th>\n",
       "      <td>0.532934</td>\n",
       "      <td>0.397368</td>\n",
       "      <td>0.503673</td>\n",
       "      <td>2.357702</td>\n",
       "      <td>2.281395</td>\n",
       "      <td>2.528942</td>\n",
       "      <td>2.321559</td>\n",
       "      <td>0.095837</td>\n",
       "      <td>1.595045e-06</td>\n",
       "      <td>0.019093</td>\n",
       "    </tr>\n",
       "  </tbody>\n",
       "</table>\n",
       "</div>"
      ],
      "text/plain": [
       "                 SRR493366  SRR493367  SRR493368  SRR493369  SRR493370  \\\n",
       "ensgene                                                                  \n",
       "ENSG00000112406   0.556886   0.473684   0.528856   1.629243   1.660465   \n",
       "ENSG00000127951   0.544910   0.513158   0.526758   1.378590   1.302326   \n",
       "ENSG00000257704   0.401198   0.407895   0.407135   0.603133   0.623256   \n",
       "ENSG00000198169   0.476048   0.523684   0.482686   0.911227   0.913953   \n",
       "ENSG00000114796   0.532934   0.397368   0.503673   2.357702   2.281395   \n",
       "\n",
       "                 SRR493371         M         A       p_value  bonferroni  \n",
       "ensgene                                                                   \n",
       "ENSG00000112406   1.694611  1.676381 -0.105756  1.184934e-07    0.001418  \n",
       "ENSG00000127951   1.351297  1.347248 -0.247014  1.751737e-07    0.002097  \n",
       "ENSG00000257704   0.628743  0.609108 -0.997995  9.273077e-07    0.011100  \n",
       "ENSG00000198169   0.920160  0.889032 -0.572494  1.095832e-06    0.013117  \n",
       "ENSG00000114796   2.528942  2.321559  0.095837  1.595045e-06    0.019093  "
      ]
     },
     "execution_count": 200,
     "metadata": {},
     "output_type": "execute_result"
    }
   ],
   "source": [
    "sorted_data.head()"
   ]
  },
  {
   "cell_type": "markdown",
   "metadata": {},
   "source": [
    "## Advanced - simple aggregation "
   ]
  },
  {
   "cell_type": "markdown",
   "metadata": {},
   "source": [
    "Let's say there was information about more than just individual genes: there was also families of genes we\n",
    "were interested in:"
   ]
  },
  {
   "cell_type": "code",
   "execution_count": 234,
   "metadata": {},
   "outputs": [],
   "source": [
    "genes_with_families = genes_have_counts_data\n",
    "\n",
    "def phony_family_from_name(gene_name):\n",
    "    return int(gene_name[-1])\n",
    "\n",
    "families = list(map(phony_family_from_name, genes_have_counts_data.index))\n",
    "genes_with_families['family'] = families"
   ]
  },
  {
   "cell_type": "code",
   "execution_count": 235,
   "metadata": {},
   "outputs": [
    {
     "data": {
      "text/html": [
       "<div>\n",
       "<table border=\"1\" class=\"dataframe\">\n",
       "  <thead>\n",
       "    <tr style=\"text-align: right;\">\n",
       "      <th></th>\n",
       "      <th>SRR493366</th>\n",
       "      <th>SRR493367</th>\n",
       "      <th>SRR493368</th>\n",
       "      <th>SRR493369</th>\n",
       "      <th>SRR493370</th>\n",
       "      <th>SRR493371</th>\n",
       "      <th>family</th>\n",
       "    </tr>\n",
       "    <tr>\n",
       "      <th>ensgene</th>\n",
       "      <th></th>\n",
       "      <th></th>\n",
       "      <th></th>\n",
       "      <th></th>\n",
       "      <th></th>\n",
       "      <th></th>\n",
       "      <th></th>\n",
       "    </tr>\n",
       "  </thead>\n",
       "  <tbody>\n",
       "    <tr>\n",
       "      <th>ENSG00000279457</th>\n",
       "      <td>23</td>\n",
       "      <td>28</td>\n",
       "      <td>29</td>\n",
       "      <td>29</td>\n",
       "      <td>28</td>\n",
       "      <td>46</td>\n",
       "      <td>7</td>\n",
       "    </tr>\n",
       "    <tr>\n",
       "      <th>ENSG00000187634</th>\n",
       "      <td>124</td>\n",
       "      <td>123</td>\n",
       "      <td>205</td>\n",
       "      <td>207</td>\n",
       "      <td>212</td>\n",
       "      <td>258</td>\n",
       "      <td>4</td>\n",
       "    </tr>\n",
       "    <tr>\n",
       "      <th>ENSG00000188976</th>\n",
       "      <td>1637</td>\n",
       "      <td>1831</td>\n",
       "      <td>2383</td>\n",
       "      <td>1226</td>\n",
       "      <td>1326</td>\n",
       "      <td>1504</td>\n",
       "      <td>6</td>\n",
       "    </tr>\n",
       "    <tr>\n",
       "      <th>ENSG00000187961</th>\n",
       "      <td>120</td>\n",
       "      <td>153</td>\n",
       "      <td>180</td>\n",
       "      <td>236</td>\n",
       "      <td>255</td>\n",
       "      <td>357</td>\n",
       "      <td>1</td>\n",
       "    </tr>\n",
       "    <tr>\n",
       "      <th>ENSG00000187583</th>\n",
       "      <td>24</td>\n",
       "      <td>48</td>\n",
       "      <td>65</td>\n",
       "      <td>44</td>\n",
       "      <td>48</td>\n",
       "      <td>64</td>\n",
       "      <td>3</td>\n",
       "    </tr>\n",
       "  </tbody>\n",
       "</table>\n",
       "</div>"
      ],
      "text/plain": [
       "                 SRR493366  SRR493367  SRR493368  SRR493369  SRR493370  \\\n",
       "ensgene                                                                  \n",
       "ENSG00000279457         23         28         29         29         28   \n",
       "ENSG00000187634        124        123        205        207        212   \n",
       "ENSG00000188976       1637       1831       2383       1226       1326   \n",
       "ENSG00000187961        120        153        180        236        255   \n",
       "ENSG00000187583         24         48         65         44         48   \n",
       "\n",
       "                 SRR493371  family  \n",
       "ensgene                             \n",
       "ENSG00000279457         46       7  \n",
       "ENSG00000187634        258       4  \n",
       "ENSG00000188976       1504       6  \n",
       "ENSG00000187961        357       1  \n",
       "ENSG00000187583         64       3  "
      ]
     },
     "execution_count": 235,
     "metadata": {},
     "output_type": "execute_result"
    }
   ],
   "source": [
    "genes_with_families.head()"
   ]
  },
  {
   "cell_type": "markdown",
   "metadata": {},
   "source": [
    "We can do simple things like find out how many are in each family:"
   ]
  },
  {
   "cell_type": "code",
   "execution_count": 236,
   "metadata": {},
   "outputs": [
    {
     "data": {
      "text/plain": [
       "4    1261\n",
       "1    1241\n",
       "6    1235\n",
       "3    1228\n",
       "2    1200\n",
       "5    1184\n",
       "0    1175\n",
       "8    1159\n",
       "9    1157\n",
       "7    1130\n",
       "Name: family, dtype: int64"
      ]
     },
     "execution_count": 236,
     "metadata": {},
     "output_type": "execute_result"
    }
   ],
   "source": [
    "genes_with_families['family'].value_counts()"
   ]
  },
  {
   "cell_type": "markdown",
   "metadata": {},
   "source": [
    "Now we can start aggregating data by family:"
   ]
  },
  {
   "cell_type": "code",
   "execution_count": 245,
   "metadata": {
    "collapsed": true
   },
   "outputs": [],
   "source": [
    "family_data = genes_with_families.groupby('family').aggregate('mean')"
   ]
  },
  {
   "cell_type": "code",
   "execution_count": 246,
   "metadata": {},
   "outputs": [
    {
     "data": {
      "text/html": [
       "<div>\n",
       "<table border=\"1\" class=\"dataframe\">\n",
       "  <thead>\n",
       "    <tr style=\"text-align: right;\">\n",
       "      <th></th>\n",
       "      <th>SRR493366</th>\n",
       "      <th>SRR493367</th>\n",
       "      <th>SRR493368</th>\n",
       "      <th>SRR493369</th>\n",
       "      <th>SRR493370</th>\n",
       "      <th>SRR493371</th>\n",
       "    </tr>\n",
       "    <tr>\n",
       "      <th>family</th>\n",
       "      <th></th>\n",
       "      <th></th>\n",
       "      <th></th>\n",
       "      <th></th>\n",
       "      <th></th>\n",
       "      <th></th>\n",
       "    </tr>\n",
       "  </thead>\n",
       "  <tbody>\n",
       "    <tr>\n",
       "      <th>0</th>\n",
       "      <td>948.428085</td>\n",
       "      <td>1083.331064</td>\n",
       "      <td>1368.943830</td>\n",
       "      <td>1088.706383</td>\n",
       "      <td>1222.605957</td>\n",
       "      <td>1410.660426</td>\n",
       "    </tr>\n",
       "    <tr>\n",
       "      <th>1</th>\n",
       "      <td>1282.382756</td>\n",
       "      <td>1439.471394</td>\n",
       "      <td>1833.764706</td>\n",
       "      <td>1740.912168</td>\n",
       "      <td>1941.875907</td>\n",
       "      <td>2246.020951</td>\n",
       "    </tr>\n",
       "    <tr>\n",
       "      <th>2</th>\n",
       "      <td>1104.530833</td>\n",
       "      <td>1258.074167</td>\n",
       "      <td>1578.275000</td>\n",
       "      <td>1370.426667</td>\n",
       "      <td>1544.802500</td>\n",
       "      <td>1768.760000</td>\n",
       "    </tr>\n",
       "    <tr>\n",
       "      <th>3</th>\n",
       "      <td>943.318404</td>\n",
       "      <td>1081.236156</td>\n",
       "      <td>1363.280945</td>\n",
       "      <td>1118.091205</td>\n",
       "      <td>1252.069218</td>\n",
       "      <td>1452.158795</td>\n",
       "    </tr>\n",
       "    <tr>\n",
       "      <th>4</th>\n",
       "      <td>1406.930214</td>\n",
       "      <td>1594.706582</td>\n",
       "      <td>2024.383822</td>\n",
       "      <td>1492.633624</td>\n",
       "      <td>1688.310071</td>\n",
       "      <td>1909.273592</td>\n",
       "    </tr>\n",
       "  </tbody>\n",
       "</table>\n",
       "</div>"
      ],
      "text/plain": [
       "          SRR493366    SRR493367    SRR493368    SRR493369    SRR493370  \\\n",
       "family                                                                    \n",
       "0        948.428085  1083.331064  1368.943830  1088.706383  1222.605957   \n",
       "1       1282.382756  1439.471394  1833.764706  1740.912168  1941.875907   \n",
       "2       1104.530833  1258.074167  1578.275000  1370.426667  1544.802500   \n",
       "3        943.318404  1081.236156  1363.280945  1118.091205  1252.069218   \n",
       "4       1406.930214  1594.706582  2024.383822  1492.633624  1688.310071   \n",
       "\n",
       "          SRR493371  \n",
       "family               \n",
       "0       1410.660426  \n",
       "1       2246.020951  \n",
       "2       1768.760000  \n",
       "3       1452.158795  \n",
       "4       1909.273592  "
      ]
     },
     "execution_count": 246,
     "metadata": {},
     "output_type": "execute_result"
    }
   ],
   "source": [
    "family_data.head()"
   ]
  },
  {
   "cell_type": "code",
   "execution_count": 247,
   "metadata": {},
   "outputs": [
    {
     "data": {
      "text/plain": [
       "<matplotlib.axes._subplots.AxesSubplot at 0x12e359dd8>"
      ]
     },
     "execution_count": 247,
     "metadata": {},
     "output_type": "execute_result"
    },
    {
     "data": {
      "image/png": "[encoded data removed]",
      "text/plain": [
       "<matplotlib.figure.Figure at 0x12e3975f8>"
      ]
     },
     "metadata": {},
     "output_type": "display_data"
    }
   ],
   "source": [
    "family_data.plot(kind='bar')"
   ]
  },
  {
   "cell_type": "code",
   "execution_count": null,
   "metadata": {
    "collapsed": true
   },
   "outputs": [],
   "source": []
  }
 ],
 "metadata": {
  "kernelspec": {
   "display_name": "Python 3",
   "language": "python",
   "name": "python3"
  },
  "language_info": {
   "codemirror_mode": {
    "name": "ipython",
    "version": 3
   },
   "file_extension": ".py",
   "mimetype": "text/x-python",
   "name": "python",
   "nbconvert_exporter": "python",
   "pygments_lexer": "ipython3",
   "version": "3.6.9"
  }
 },
 "nbformat": 4,
 "nbformat_minor": 1
}
