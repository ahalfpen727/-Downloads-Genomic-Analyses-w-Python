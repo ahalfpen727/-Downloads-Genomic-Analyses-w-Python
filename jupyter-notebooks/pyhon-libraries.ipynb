{
 "cells": [
  {
   "cell_type": "markdown",
   "metadata": {},
   "source": [
    "## Load Python libraries"
   ]
  },
  {
   "cell_type": "code",
   "execution_count": null,
   "metadata": {},
   "outputs": [],
   "source": [
    "import sys\n",
    "import pprint\n",
    "import pybedtools as pb \n",
    "import gffutils as gt\n",
    "import matplotlib.pyplot as plt\n",
    "import sys\n",
    "sys.path"
   ]
  },
  {
   "cell_type": "code",
   "execution_count": null,
   "metadata": {},
   "outputs": [],
   "source": [
    "pip install pandas"
   ]
  },
  {
   "cell_type": "code",
   "execution_count": null,
   "metadata": {},
   "outputs": [],
   "source": [
    "import sys\n",
    "sys.path\n",
    "import numpy as np\n",
    "import matplotlib.pylab as plt\n",
    "import pandas as pd\n",
    "import numpy as np\n"
   ]
  },
  {
   "cell_type": "code",
   "execution_count": null,
   "metadata": {},
   "outputs": [],
   "source": [
    "from pybedtools import genome_registry\n",
    "from pygtftk.gtf_interface import GTF"
   ]
  },
  {
   "cell_type": "code",
   "execution_count": null,
   "metadata": {},
   "outputs": [],
   "source": [
    "from pybedtools import BedTool\n",
    "grch38gff='/home/drew/Desktop/IPyNB-Variant-Analysis/data/cuffcmp.combined.gtf'\n",
    "#snps = BedTool('snps.bed.gz')  # [1]\n",
    "genes = BedTool(grch38gff)    # [1]\n"
   ]
  },
  {
   "cell_type": "code",
   "execution_count": null,
   "metadata": {},
   "outputs": [],
   "source": [
    "%%bash\n",
    "ln -P /home/drew/Desktop/IPyNB-Variant-Analysis/data\n",
    "ln -P /media/drew/easystore/ReferenceGenomes/GCA_000001405.15_GRCh38_no_alt_analysis_set/\n",
    "ln -P /media/drew/easystore/ReferenceGenomes/GRCh38/"
   ]
  },
  {
   "cell_type": "code",
   "execution_count": null,
   "metadata": {},
   "outputs": [],
   "source": [
    "intergenic_snps = snps.subtract(genes)                       # [2]\n",
    "nearby = genes.closest(intergenic_snps, d=True, stream=True) # [2, 3]\n",
    "\n",
    "for gene in nearby:             # [4]\n",
    "    if int(gene[-1]) < 5000:    # [4]\n",
    "        print gene.name         # [4]"
   ]
  },
  {
   "cell_type": "code",
   "execution_count": null,
   "metadata": {},
   "outputs": [],
   "source": [
    "%%bash\n",
    "cd /media/drew/easystore/GoodCell-Resources/AnalysisBaseDir/GSA_Data/2018_07\n",
    "pwd\n",
    "ls -l */*vcf"
   ]
  },
  {
   "cell_type": "code",
   "execution_count": null,
   "metadata": {},
   "outputs": [],
   "source": [
    "%%bash /media/drew/easystore/GoodCell-Resources/AnalysisBaseDir/GSA_Data/2018_07/2018_07.\n",
    "gsa2vcf = '/media/drew/easystore/GoodCell-Resources/AnalysisBaseDir/GSA_Data/2020_01/2020_01.clinvar.GSA-24v2.vcf'\n",
    "datadir='/home/drew/Desktop/IPyNB-Variant-Analysis/data'\n"
   ]
  },
  {
   "cell_type": "code",
   "execution_count": null,
   "metadata": {},
   "outputs": [],
   "source": [
    "#filename = \"2018_07.clinvar.GRCh38.GSA-24v1.vcf\"\n",
    "vcf_reader = vcf.Reader(open('/media/drew/easystore/GoodCell-Resources/AnalysisBaseDir/GSA_Data/2018_07/2018_07.clinvar.GRCh38.GSA-24v1.vcf', 'r'))\n",
    "vcf_reader\n",
    "sample = vcf_reader.samples\n",
    "print(sample)\n"
   ]
  },
  {
   "cell_type": "code",
   "execution_count": null,
   "metadata": {},
   "outputs": [],
   "source": [
    "vcf_reader = vcf.Reader(open('/media/drew/easystore/GoodCell-Resources/AnalysisBaseDir/GSA_Data/2018_07/2018_07.clinvar.GRCh38.GSA-24v1.vcf', 'r'))\n",
    "vcfcalls = al.read_vcf(vcffile)\n",
    "vcfcalls['samples']"
   ]
  },
  {
   "cell_type": "code",
   "execution_count": null,
   "metadata": {},
   "outputs": [],
   "source": [
    "vcffile = '/media/drew/easystore/GoodCell-Resources/AnalysisBaseDir/GSA_Data/2020_01/2020_01.clinvar.GSA-24v2.vcf'\n",
    "vcfcalls = al.read_vcf(vcffile)\n",
    "sorted(vcfcalls.keys())"
   ]
  },
  {
   "cell_type": "code",
   "execution_count": null,
   "metadata": {},
   "outputs": [],
   "source": [
    "vcffile = '/media/drew/easystore/GoodCell-Resources/AnalysisBaseDir/GSA_Data/2018_07/2018_07.clinvar.GRCh38.GSA-24v1.vcf'\n",
    "#bcf_in = VariantFile(vcffile)  # auto-detect input format\n",
    "#print(bcf_in.header.samples,10)\n",
    "callset = al.read_vcf(vcffile, fields='*')\n",
    "sorted(callset.keys())\n",
    "df = al.vcf_to_dataframe(vcffile)\n",
    "df"
   ]
  },
  {
   "cell_type": "code",
   "execution_count": null,
   "metadata": {},
   "outputs": [],
   "source": []
  },
  {
   "cell_type": "code",
   "execution_count": null,
   "metadata": {},
   "outputs": [],
   "source": [
    "%%bash\n",
    "cd /media/drew/easystore/Current-Analysis/AnalysisBaseDir/GSA_Data/2020_01\n"
   ]
  },
  {
   "cell_type": "code",
   "execution_count": null,
   "metadata": {},
   "outputs": [],
   "source": [
    "#=open('2018_07.GSA-24v1_0.GRCh38.vcf', mode='r')\n",
    "gsavcf=read_vcf('2018_07.clinvar.GRCh38.GSA-24v1.vcf')\n",
    "\n",
    "#filename = \"2018_07.clinvar.GRCh38.GSA-24v1.vcf\"\n",
    "vcf_reader = vcf.Reader(open('/media/drew/easystore/GoodCell-Resources/AnalysisBaseDir/GSA_Data/2018_07/2018_07.clinvar.GRCh38.GSA-24v1.vcf', 'r'))\n",
    "print(length(vcf_reader))\n",
    "\n",
    "for rec in bcf_in.fetch('10', 10500000, 105500000):\n",
    "    # Get the Genotype value for the sample, or 'None' if missing\n",
    "    gt = rec.samples[sample].get('GT',None)\n",
    "\n",
    "    print rec.chrom, rec.pos, rec.id, gt\n"
   ]
  },
  {
   "cell_type": "code",
   "execution_count": null,
   "metadata": {},
   "outputs": [],
   "source": [
    "/home/drew/Desktop/IPyNB-Variant-Analysis/data/isoform_exp.diff"
   ]
  },
  {
   "cell_type": "code",
   "execution_count": null,
   "metadata": {},
   "outputs": [],
   "source": [
    "\n",
    "for rec in vcf_reader.fetch('10', 10500000, 105500000):\n",
    "    gt = rec.genotype(sample)['GT']\n",
    "    print(rec.CHROM, rec.POS, rec.ID, rec.REF, gt)"
   ]
  },
  {
   "cell_type": "code",
   "execution_count": null,
   "metadata": {},
   "outputs": [],
   "source": [
    "# Generate random numbers simulating gene-expression values\n",
    "geneA = normal(size=1000)\n",
    "geneB = normal(size=1000)\n",
    "\n",
    "# get_ipython().magic('matplotlib inline')\n",
    "plt.plot(geneA, geneB, \"o\", color=\"#99C1C2\")\n",
    "plt.xlabel(\"Gene A\")\n",
    "plt.ylabel(\"Gene B\")\n",
    "plt.show()"
   ]
  }
 ],
 "metadata": {
  "kernelspec": {
   "display_name": "Python 3",
   "language": "python",
   "name": "python3"
  },
  "language_info": {
   "codemirror_mode": {
    "name": "ipython",
    "version": 3
   },
   "file_extension": ".py",
   "mimetype": "text/x-python",
   "name": "python",
   "nbconvert_exporter": "python",
   "pygments_lexer": "ipython3",
   "version": "3.6.9"
  }
 },
 "nbformat": 4,
 "nbformat_minor": 1
}
